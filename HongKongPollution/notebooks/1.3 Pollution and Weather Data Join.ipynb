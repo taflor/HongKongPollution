{
 "cells": [
  {
   "cell_type": "markdown",
   "metadata": {},
   "source": [
    "# Hong Kong Pollution & Weather: Data Join\n",
    "\n",
    "**The Data Science Method**  \n",
    "\n",
    "\n",
    "0.   Problem Identification \n",
    "\n",
    "1.   **Data Wrangling** \n",
    "  * Data Collection\n",
    "      - Locating the data\n",
    "      - Data loading\n",
    "      - Data joining\n",
    "   * Data Organization\n",
    "      -  File structure\n",
    "      -  Git & Github\n",
    "  * Data Definition\n",
    "      - Column names\n",
    "      - Data types (numeric, categorical, timestamp, etc.)\n",
    "      - Description of the columns\n",
    "      - Count or percent per unique values or codes (including NA)\n",
    "      - The range of values or codes  \n",
    "  * Data Cleaning\n",
    "      - NA or missing data\n",
    "      - Duplicates\n",
    " \n",
    "2.   Exploratory Data Analysis \n",
    "\n",
    "3.   Pre-processing and Training Data Development\n",
    "\n",
    "4.   Modeling \n",
    "\n",
    "5.   Documentation"
   ]
  },
  {
   "cell_type": "markdown",
   "metadata": {},
   "source": [
    "# Data Collection\n",
    "Load required packages and modules into Python. Then load the data into a pandas dataframe for ease of use."
   ]
  },
  {
   "cell_type": "code",
   "execution_count": 1,
   "metadata": {},
   "outputs": [],
   "source": [
    "import os\n",
    "import pandas as pd\n",
    "import matplotlib.pyplot as plt\n",
    "\n",
    "%matplotlib inline"
   ]
  },
  {
   "cell_type": "markdown",
   "metadata": {},
   "source": [
    "**Save current working directory and parent path.**"
   ]
  },
  {
   "cell_type": "code",
   "execution_count": 2,
   "metadata": {},
   "outputs": [
    {
     "name": "stdout",
     "output_type": "stream",
     "text": [
      "/Users/tiffanyflor/Dropbox/MyProjects/HongKongPollution/HongKongPollution\n"
     ]
    }
   ],
   "source": [
    "path = os.getcwd()\n",
    "parent = os.path.dirname(path)\n",
    "print(parent)"
   ]
  },
  {
   "cell_type": "markdown",
   "metadata": {},
   "source": [
    "**Save data/interim/ directory path and print contents.**"
   ]
  },
  {
   "cell_type": "code",
   "execution_count": 3,
   "metadata": {},
   "outputs": [],
   "source": [
    "data_path = parent + '/data/interim/'"
   ]
  },
  {
   "cell_type": "code",
   "execution_count": 4,
   "metadata": {},
   "outputs": [
    {
     "data": {
      "text/plain": [
       "['monthly_pollution_2014_2020.csv',\n",
       " 'daily_max_pollution.csv',\n",
       " 'hourly_pollution.csv',\n",
       " '.gitkeep',\n",
       " 'pollution_monthly_min_2014_2020.csv',\n",
       " 'pollution_monthly_max_2014_2020.csv',\n",
       " 'joined_weather_pollution_all_districts.csv',\n",
       " 'cleaned_weather_2014_2020.csv']"
      ]
     },
     "execution_count": 4,
     "metadata": {},
     "output_type": "execute_result"
    }
   ],
   "source": [
    "os.listdir(data_path)"
   ]
  },
  {
   "cell_type": "markdown",
   "metadata": {},
   "source": [
    "## Load monthly_max_pollution data from csv file"
   ]
  },
  {
   "cell_type": "code",
   "execution_count": 5,
   "metadata": {},
   "outputs": [
    {
     "data": {
      "text/html": [
       "<div>\n",
       "<style scoped>\n",
       "    .dataframe tbody tr th:only-of-type {\n",
       "        vertical-align: middle;\n",
       "    }\n",
       "\n",
       "    .dataframe tbody tr th {\n",
       "        vertical-align: top;\n",
       "    }\n",
       "\n",
       "    .dataframe thead th {\n",
       "        text-align: right;\n",
       "    }\n",
       "</style>\n",
       "<table border=\"1\" class=\"dataframe\">\n",
       "  <thead>\n",
       "    <tr style=\"text-align: right;\">\n",
       "      <th></th>\n",
       "      <th>Date</th>\n",
       "      <th>Central/Western</th>\n",
       "      <th>Eastern</th>\n",
       "      <th>Kwun Tong</th>\n",
       "      <th>Sham Shui Po</th>\n",
       "      <th>Kwai Chung</th>\n",
       "      <th>Tsuen Wan</th>\n",
       "      <th>Yuen Long</th>\n",
       "      <th>Tuen Mun</th>\n",
       "      <th>Tung Chung</th>\n",
       "      <th>Tai Po</th>\n",
       "      <th>Sha Tin</th>\n",
       "      <th>Causeway Bay</th>\n",
       "      <th>Central</th>\n",
       "      <th>Mong Kok</th>\n",
       "    </tr>\n",
       "  </thead>\n",
       "  <tbody>\n",
       "    <tr>\n",
       "      <th>0</th>\n",
       "      <td>2014-01-31</td>\n",
       "      <td>5.151882</td>\n",
       "      <td>4.657258</td>\n",
       "      <td>5.404570</td>\n",
       "      <td>5.276882</td>\n",
       "      <td>5.181452</td>\n",
       "      <td>5.119624</td>\n",
       "      <td>5.233871</td>\n",
       "      <td>5.362903</td>\n",
       "      <td>5.282258</td>\n",
       "      <td>4.696237</td>\n",
       "      <td>4.931452</td>\n",
       "      <td>6.310484</td>\n",
       "      <td>6.110215</td>\n",
       "      <td>5.631720</td>\n",
       "    </tr>\n",
       "    <tr>\n",
       "      <th>1</th>\n",
       "      <td>2014-02-28</td>\n",
       "      <td>3.494048</td>\n",
       "      <td>3.244048</td>\n",
       "      <td>3.587798</td>\n",
       "      <td>3.590774</td>\n",
       "      <td>3.511905</td>\n",
       "      <td>3.474702</td>\n",
       "      <td>3.403274</td>\n",
       "      <td>3.407738</td>\n",
       "      <td>3.558036</td>\n",
       "      <td>3.437500</td>\n",
       "      <td>3.312500</td>\n",
       "      <td>4.379464</td>\n",
       "      <td>4.346726</td>\n",
       "      <td>4.049107</td>\n",
       "    </tr>\n",
       "    <tr>\n",
       "      <th>2</th>\n",
       "      <td>2014-03-31</td>\n",
       "      <td>3.923387</td>\n",
       "      <td>3.600806</td>\n",
       "      <td>3.934140</td>\n",
       "      <td>3.994624</td>\n",
       "      <td>3.897849</td>\n",
       "      <td>3.901882</td>\n",
       "      <td>3.767473</td>\n",
       "      <td>3.719086</td>\n",
       "      <td>3.744624</td>\n",
       "      <td>3.721774</td>\n",
       "      <td>3.716398</td>\n",
       "      <td>5.024194</td>\n",
       "      <td>4.790323</td>\n",
       "      <td>4.494624</td>\n",
       "    </tr>\n",
       "    <tr>\n",
       "      <th>3</th>\n",
       "      <td>2014-04-30</td>\n",
       "      <td>4.101389</td>\n",
       "      <td>3.925000</td>\n",
       "      <td>4.186111</td>\n",
       "      <td>4.354167</td>\n",
       "      <td>4.166667</td>\n",
       "      <td>4.075000</td>\n",
       "      <td>3.943056</td>\n",
       "      <td>3.919444</td>\n",
       "      <td>3.751389</td>\n",
       "      <td>3.820833</td>\n",
       "      <td>3.912500</td>\n",
       "      <td>4.962500</td>\n",
       "      <td>4.919444</td>\n",
       "      <td>4.898611</td>\n",
       "    </tr>\n",
       "    <tr>\n",
       "      <th>4</th>\n",
       "      <td>2014-05-31</td>\n",
       "      <td>2.700269</td>\n",
       "      <td>2.834677</td>\n",
       "      <td>3.119624</td>\n",
       "      <td>3.038978</td>\n",
       "      <td>3.068548</td>\n",
       "      <td>2.803763</td>\n",
       "      <td>2.782258</td>\n",
       "      <td>2.646505</td>\n",
       "      <td>2.631720</td>\n",
       "      <td>2.775538</td>\n",
       "      <td>2.837366</td>\n",
       "      <td>3.750000</td>\n",
       "      <td>3.473118</td>\n",
       "      <td>3.483871</td>\n",
       "    </tr>\n",
       "  </tbody>\n",
       "</table>\n",
       "</div>"
      ],
      "text/plain": [
       "         Date  Central/Western   Eastern  Kwun Tong  Sham Shui Po  Kwai Chung  \\\n",
       "0  2014-01-31         5.151882  4.657258   5.404570      5.276882    5.181452   \n",
       "1  2014-02-28         3.494048  3.244048   3.587798      3.590774    3.511905   \n",
       "2  2014-03-31         3.923387  3.600806   3.934140      3.994624    3.897849   \n",
       "3  2014-04-30         4.101389  3.925000   4.186111      4.354167    4.166667   \n",
       "4  2014-05-31         2.700269  2.834677   3.119624      3.038978    3.068548   \n",
       "\n",
       "   Tsuen Wan  Yuen Long  Tuen Mun  Tung Chung    Tai Po   Sha Tin  \\\n",
       "0   5.119624   5.233871  5.362903    5.282258  4.696237  4.931452   \n",
       "1   3.474702   3.403274  3.407738    3.558036  3.437500  3.312500   \n",
       "2   3.901882   3.767473  3.719086    3.744624  3.721774  3.716398   \n",
       "3   4.075000   3.943056  3.919444    3.751389  3.820833  3.912500   \n",
       "4   2.803763   2.782258  2.646505    2.631720  2.775538  2.837366   \n",
       "\n",
       "   Causeway Bay   Central  Mong Kok  \n",
       "0      6.310484  6.110215  5.631720  \n",
       "1      4.379464  4.346726  4.049107  \n",
       "2      5.024194  4.790323  4.494624  \n",
       "3      4.962500  4.919444  4.898611  \n",
       "4      3.750000  3.473118  3.483871  "
      ]
     },
     "execution_count": 5,
     "metadata": {},
     "output_type": "execute_result"
    }
   ],
   "source": [
    "pollution = pd.read_csv(data_path+'monthly_pollution_2014_2020.csv')\n",
    "pollution.head()"
   ]
  },
  {
   "cell_type": "markdown",
   "metadata": {},
   "source": [
    "## Load cleaned_weather data from csv file"
   ]
  },
  {
   "cell_type": "code",
   "execution_count": 6,
   "metadata": {},
   "outputs": [
    {
     "data": {
      "text/html": [
       "<div>\n",
       "<style scoped>\n",
       "    .dataframe tbody tr th:only-of-type {\n",
       "        vertical-align: middle;\n",
       "    }\n",
       "\n",
       "    .dataframe tbody tr th {\n",
       "        vertical-align: top;\n",
       "    }\n",
       "\n",
       "    .dataframe thead th {\n",
       "        text-align: right;\n",
       "    }\n",
       "</style>\n",
       "<table border=\"1\" class=\"dataframe\">\n",
       "  <thead>\n",
       "    <tr style=\"text-align: right;\">\n",
       "      <th></th>\n",
       "      <th>Date Period</th>\n",
       "      <th>Mean Pressure (hPa)</th>\n",
       "      <th>Mean Daily Max Air Temp (C°)</th>\n",
       "      <th>Mean Air Temp (C°)</th>\n",
       "      <th>Mean Daily Min Air Temp (C°)</th>\n",
       "      <th>Mean Dew Point (C°)</th>\n",
       "      <th>Mean Relative Humidity (%)</th>\n",
       "      <th>Mean Amount of Cloud Coverage (%)</th>\n",
       "      <th>Total Rainfall (mm)</th>\n",
       "      <th>Prevailing Wind Direction (degrees)</th>\n",
       "      <th>Mean Wind Speed (km/h)</th>\n",
       "    </tr>\n",
       "  </thead>\n",
       "  <tbody>\n",
       "    <tr>\n",
       "      <th>0</th>\n",
       "      <td>2014-01</td>\n",
       "      <td>1021.3</td>\n",
       "      <td>19.2</td>\n",
       "      <td>16.3</td>\n",
       "      <td>14.1</td>\n",
       "      <td>9.9</td>\n",
       "      <td>67</td>\n",
       "      <td>32</td>\n",
       "      <td>1.0</td>\n",
       "      <td>40</td>\n",
       "      <td>22.9</td>\n",
       "    </tr>\n",
       "    <tr>\n",
       "      <th>1</th>\n",
       "      <td>2014-02</td>\n",
       "      <td>1017.7</td>\n",
       "      <td>17.9</td>\n",
       "      <td>15.5</td>\n",
       "      <td>13.5</td>\n",
       "      <td>12.3</td>\n",
       "      <td>82</td>\n",
       "      <td>73</td>\n",
       "      <td>39.5</td>\n",
       "      <td>50</td>\n",
       "      <td>26.6</td>\n",
       "    </tr>\n",
       "    <tr>\n",
       "      <th>2</th>\n",
       "      <td>2014-03</td>\n",
       "      <td>1017.1</td>\n",
       "      <td>20.9</td>\n",
       "      <td>18.7</td>\n",
       "      <td>17.0</td>\n",
       "      <td>15.7</td>\n",
       "      <td>83</td>\n",
       "      <td>77</td>\n",
       "      <td>207.6</td>\n",
       "      <td>60</td>\n",
       "      <td>24.1</td>\n",
       "    </tr>\n",
       "    <tr>\n",
       "      <th>3</th>\n",
       "      <td>2014-04</td>\n",
       "      <td>1013.4</td>\n",
       "      <td>24.9</td>\n",
       "      <td>22.6</td>\n",
       "      <td>21.0</td>\n",
       "      <td>20.0</td>\n",
       "      <td>86</td>\n",
       "      <td>72</td>\n",
       "      <td>132.4</td>\n",
       "      <td>80</td>\n",
       "      <td>20.6</td>\n",
       "    </tr>\n",
       "    <tr>\n",
       "      <th>4</th>\n",
       "      <td>2014-05</td>\n",
       "      <td>1009.5</td>\n",
       "      <td>28.6</td>\n",
       "      <td>26.4</td>\n",
       "      <td>24.6</td>\n",
       "      <td>23.7</td>\n",
       "      <td>86</td>\n",
       "      <td>82</td>\n",
       "      <td>687.3</td>\n",
       "      <td>240</td>\n",
       "      <td>23.7</td>\n",
       "    </tr>\n",
       "  </tbody>\n",
       "</table>\n",
       "</div>"
      ],
      "text/plain": [
       "  Date Period  Mean Pressure (hPa)  Mean Daily Max Air Temp (C°)  \\\n",
       "0     2014-01               1021.3                          19.2   \n",
       "1     2014-02               1017.7                          17.9   \n",
       "2     2014-03               1017.1                          20.9   \n",
       "3     2014-04               1013.4                          24.9   \n",
       "4     2014-05               1009.5                          28.6   \n",
       "\n",
       "   Mean Air Temp (C°)  Mean Daily Min Air Temp (C°)  Mean Dew Point (C°)  \\\n",
       "0                16.3                          14.1                  9.9   \n",
       "1                15.5                          13.5                 12.3   \n",
       "2                18.7                          17.0                 15.7   \n",
       "3                22.6                          21.0                 20.0   \n",
       "4                26.4                          24.6                 23.7   \n",
       "\n",
       "   Mean Relative Humidity (%)  Mean Amount of Cloud Coverage (%)  \\\n",
       "0                          67                                 32   \n",
       "1                          82                                 73   \n",
       "2                          83                                 77   \n",
       "3                          86                                 72   \n",
       "4                          86                                 82   \n",
       "\n",
       "   Total Rainfall (mm)  Prevailing Wind Direction (degrees)  \\\n",
       "0                  1.0                                   40   \n",
       "1                 39.5                                   50   \n",
       "2                207.6                                   60   \n",
       "3                132.4                                   80   \n",
       "4                687.3                                  240   \n",
       "\n",
       "   Mean Wind Speed (km/h)  \n",
       "0                    22.9  \n",
       "1                    26.6  \n",
       "2                    24.1  \n",
       "3                    20.6  \n",
       "4                    23.7  "
      ]
     },
     "execution_count": 6,
     "metadata": {},
     "output_type": "execute_result"
    }
   ],
   "source": [
    "weather = pd.read_csv(data_path+'cleaned_weather_2014_2020.csv', index_col=0)\n",
    "weather.head()"
   ]
  },
  {
   "cell_type": "markdown",
   "metadata": {},
   "source": [
    "# Data Organization\n",
    "Completed using cookiecutter. See README for structure."
   ]
  },
  {
   "cell_type": "markdown",
   "metadata": {},
   "source": [
    "# Data Definition\n",
    "Review column names, data types, and null values."
   ]
  },
  {
   "cell_type": "markdown",
   "metadata": {},
   "source": [
    "## Column Names"
   ]
  },
  {
   "cell_type": "code",
   "execution_count": 7,
   "metadata": {},
   "outputs": [
    {
     "data": {
      "text/plain": [
       "Index(['Date', 'Central/Western', 'Eastern', 'Kwun Tong', 'Sham Shui Po',\n",
       "       'Kwai Chung', 'Tsuen Wan', 'Yuen Long', 'Tuen Mun', 'Tung Chung',\n",
       "       'Tai Po', 'Sha Tin', 'Causeway Bay', 'Central', 'Mong Kok'],\n",
       "      dtype='object')"
      ]
     },
     "execution_count": 7,
     "metadata": {},
     "output_type": "execute_result"
    }
   ],
   "source": [
    "pollution.columns"
   ]
  },
  {
   "cell_type": "code",
   "execution_count": 8,
   "metadata": {},
   "outputs": [
    {
     "data": {
      "text/plain": [
       "Index(['Date Period', 'Mean Pressure (hPa)', 'Mean Daily Max Air Temp (C°)',\n",
       "       'Mean Air Temp (C°)', 'Mean Daily Min Air Temp (C°)',\n",
       "       'Mean Dew Point (C°)', 'Mean Relative Humidity (%)',\n",
       "       'Mean Amount of Cloud Coverage (%)', 'Total Rainfall (mm)',\n",
       "       'Prevailing Wind Direction (degrees)', 'Mean Wind Speed (km/h)'],\n",
       "      dtype='object')"
      ]
     },
     "execution_count": 8,
     "metadata": {},
     "output_type": "execute_result"
    }
   ],
   "source": [
    "weather.columns"
   ]
  },
  {
   "cell_type": "markdown",
   "metadata": {},
   "source": [
    "## Data Types\n",
    "Review which columns are integer, float, categorical, or dates. Ensure the data types is loaded properly into the dataframe."
   ]
  },
  {
   "cell_type": "code",
   "execution_count": 9,
   "metadata": {},
   "outputs": [
    {
     "data": {
      "text/plain": [
       "Date                object\n",
       "Central/Western    float64\n",
       "Eastern            float64\n",
       "Kwun Tong          float64\n",
       "Sham Shui Po       float64\n",
       "Kwai Chung         float64\n",
       "Tsuen Wan          float64\n",
       "Yuen Long          float64\n",
       "Tuen Mun           float64\n",
       "Tung Chung         float64\n",
       "Tai Po             float64\n",
       "Sha Tin            float64\n",
       "Causeway Bay       float64\n",
       "Central            float64\n",
       "Mong Kok           float64\n",
       "dtype: object"
      ]
     },
     "execution_count": 9,
     "metadata": {},
     "output_type": "execute_result"
    }
   ],
   "source": [
    "pollution.dtypes"
   ]
  },
  {
   "cell_type": "code",
   "execution_count": 10,
   "metadata": {},
   "outputs": [
    {
     "name": "stdout",
     "output_type": "stream",
     "text": [
      "<class 'pandas.core.frame.DataFrame'>\n",
      "RangeIndex: 84 entries, 0 to 83\n",
      "Data columns (total 15 columns):\n",
      " #   Column           Non-Null Count  Dtype  \n",
      "---  ------           --------------  -----  \n",
      " 0   Date             84 non-null     object \n",
      " 1   Central/Western  84 non-null     float64\n",
      " 2   Eastern          84 non-null     float64\n",
      " 3   Kwun Tong        84 non-null     float64\n",
      " 4   Sham Shui Po     84 non-null     float64\n",
      " 5   Kwai Chung       84 non-null     float64\n",
      " 6   Tsuen Wan        84 non-null     float64\n",
      " 7   Yuen Long        84 non-null     float64\n",
      " 8   Tuen Mun         84 non-null     float64\n",
      " 9   Tung Chung       84 non-null     float64\n",
      " 10  Tai Po           84 non-null     float64\n",
      " 11  Sha Tin          84 non-null     float64\n",
      " 12  Causeway Bay     84 non-null     float64\n",
      " 13  Central          84 non-null     float64\n",
      " 14  Mong Kok         84 non-null     float64\n",
      "dtypes: float64(14), object(1)\n",
      "memory usage: 10.0+ KB\n"
     ]
    }
   ],
   "source": [
    "pollution.info()"
   ]
  },
  {
   "cell_type": "code",
   "execution_count": 11,
   "metadata": {},
   "outputs": [
    {
     "data": {
      "text/plain": [
       "Date Period                             object\n",
       "Mean Pressure (hPa)                    float64\n",
       "Mean Daily Max Air Temp (C°)           float64\n",
       "Mean Air Temp (C°)                     float64\n",
       "Mean Daily Min Air Temp (C°)           float64\n",
       "Mean Dew Point (C°)                    float64\n",
       "Mean Relative Humidity (%)               int64\n",
       "Mean Amount of Cloud Coverage (%)        int64\n",
       "Total Rainfall (mm)                    float64\n",
       "Prevailing Wind Direction (degrees)      int64\n",
       "Mean Wind Speed (km/h)                 float64\n",
       "dtype: object"
      ]
     },
     "execution_count": 11,
     "metadata": {},
     "output_type": "execute_result"
    }
   ],
   "source": [
    "weather.dtypes"
   ]
  },
  {
   "cell_type": "code",
   "execution_count": 12,
   "metadata": {},
   "outputs": [
    {
     "name": "stdout",
     "output_type": "stream",
     "text": [
      "<class 'pandas.core.frame.DataFrame'>\n",
      "Int64Index: 84 entries, 0 to 83\n",
      "Data columns (total 11 columns):\n",
      " #   Column                               Non-Null Count  Dtype  \n",
      "---  ------                               --------------  -----  \n",
      " 0   Date Period                          84 non-null     object \n",
      " 1   Mean Pressure (hPa)                  84 non-null     float64\n",
      " 2   Mean Daily Max Air Temp (C°)         84 non-null     float64\n",
      " 3   Mean Air Temp (C°)                   84 non-null     float64\n",
      " 4   Mean Daily Min Air Temp (C°)         84 non-null     float64\n",
      " 5   Mean Dew Point (C°)                  84 non-null     float64\n",
      " 6   Mean Relative Humidity (%)           84 non-null     int64  \n",
      " 7   Mean Amount of Cloud Coverage (%)    84 non-null     int64  \n",
      " 8   Total Rainfall (mm)                  84 non-null     float64\n",
      " 9   Prevailing Wind Direction (degrees)  84 non-null     int64  \n",
      " 10  Mean Wind Speed (km/h)               84 non-null     float64\n",
      "dtypes: float64(7), int64(3), object(1)\n",
      "memory usage: 7.9+ KB\n"
     ]
    }
   ],
   "source": [
    "weather.info()"
   ]
  },
  {
   "cell_type": "markdown",
   "metadata": {},
   "source": [
    "# Data Cleaning"
   ]
  },
  {
   "cell_type": "markdown",
   "metadata": {},
   "source": [
    "## Update Index to PeriodIndex in both dataframes\n",
    "Period[M] to match and join."
   ]
  },
  {
   "cell_type": "code",
   "execution_count": 13,
   "metadata": {},
   "outputs": [],
   "source": [
    "pollution.index = pd.PeriodIndex(pollution['Date'], freq='M')"
   ]
  },
  {
   "cell_type": "code",
   "execution_count": 14,
   "metadata": {},
   "outputs": [],
   "source": [
    "pollution = pollution.drop('Date',axis=1)"
   ]
  },
  {
   "cell_type": "code",
   "execution_count": 15,
   "metadata": {},
   "outputs": [
    {
     "data": {
      "text/plain": [
       "period[M]"
      ]
     },
     "execution_count": 15,
     "metadata": {},
     "output_type": "execute_result"
    }
   ],
   "source": [
    "pollution.index.dtype"
   ]
  },
  {
   "cell_type": "code",
   "execution_count": 16,
   "metadata": {},
   "outputs": [],
   "source": [
    "weather.index = pd.PeriodIndex(weather['Date Period'], freq='M')"
   ]
  },
  {
   "cell_type": "code",
   "execution_count": 17,
   "metadata": {},
   "outputs": [],
   "source": [
    "weather = weather.drop('Date Period', axis=1)"
   ]
  },
  {
   "cell_type": "code",
   "execution_count": 18,
   "metadata": {},
   "outputs": [
    {
     "data": {
      "text/plain": [
       "period[M]"
      ]
     },
     "execution_count": 18,
     "metadata": {},
     "output_type": "execute_result"
    }
   ],
   "source": [
    "weather.index.dtype"
   ]
  },
  {
   "cell_type": "markdown",
   "metadata": {},
   "source": [
    "## Concat Weather and Pollution DataFrames"
   ]
  },
  {
   "cell_type": "code",
   "execution_count": 19,
   "metadata": {},
   "outputs": [],
   "source": [
    "df = pd.concat([weather, pollution], axis=1)"
   ]
  },
  {
   "cell_type": "code",
   "execution_count": 20,
   "metadata": {},
   "outputs": [
    {
     "data": {
      "text/html": [
       "<div>\n",
       "<style scoped>\n",
       "    .dataframe tbody tr th:only-of-type {\n",
       "        vertical-align: middle;\n",
       "    }\n",
       "\n",
       "    .dataframe tbody tr th {\n",
       "        vertical-align: top;\n",
       "    }\n",
       "\n",
       "    .dataframe thead th {\n",
       "        text-align: right;\n",
       "    }\n",
       "</style>\n",
       "<table border=\"1\" class=\"dataframe\">\n",
       "  <thead>\n",
       "    <tr style=\"text-align: right;\">\n",
       "      <th></th>\n",
       "      <th>Mean Pressure (hPa)</th>\n",
       "      <th>Mean Daily Max Air Temp (C°)</th>\n",
       "      <th>Mean Air Temp (C°)</th>\n",
       "      <th>Mean Daily Min Air Temp (C°)</th>\n",
       "      <th>Mean Dew Point (C°)</th>\n",
       "      <th>Mean Relative Humidity (%)</th>\n",
       "      <th>Mean Amount of Cloud Coverage (%)</th>\n",
       "      <th>Total Rainfall (mm)</th>\n",
       "      <th>Prevailing Wind Direction (degrees)</th>\n",
       "      <th>Mean Wind Speed (km/h)</th>\n",
       "      <th>...</th>\n",
       "      <th>Kwai Chung</th>\n",
       "      <th>Tsuen Wan</th>\n",
       "      <th>Yuen Long</th>\n",
       "      <th>Tuen Mun</th>\n",
       "      <th>Tung Chung</th>\n",
       "      <th>Tai Po</th>\n",
       "      <th>Sha Tin</th>\n",
       "      <th>Causeway Bay</th>\n",
       "      <th>Central</th>\n",
       "      <th>Mong Kok</th>\n",
       "    </tr>\n",
       "  </thead>\n",
       "  <tbody>\n",
       "    <tr>\n",
       "      <th>2014-01</th>\n",
       "      <td>1021.3</td>\n",
       "      <td>19.2</td>\n",
       "      <td>16.3</td>\n",
       "      <td>14.1</td>\n",
       "      <td>9.9</td>\n",
       "      <td>67</td>\n",
       "      <td>32</td>\n",
       "      <td>1.0</td>\n",
       "      <td>40</td>\n",
       "      <td>22.9</td>\n",
       "      <td>...</td>\n",
       "      <td>5.181452</td>\n",
       "      <td>5.119624</td>\n",
       "      <td>5.233871</td>\n",
       "      <td>5.362903</td>\n",
       "      <td>5.282258</td>\n",
       "      <td>4.696237</td>\n",
       "      <td>4.931452</td>\n",
       "      <td>6.310484</td>\n",
       "      <td>6.110215</td>\n",
       "      <td>5.631720</td>\n",
       "    </tr>\n",
       "    <tr>\n",
       "      <th>2014-02</th>\n",
       "      <td>1017.7</td>\n",
       "      <td>17.9</td>\n",
       "      <td>15.5</td>\n",
       "      <td>13.5</td>\n",
       "      <td>12.3</td>\n",
       "      <td>82</td>\n",
       "      <td>73</td>\n",
       "      <td>39.5</td>\n",
       "      <td>50</td>\n",
       "      <td>26.6</td>\n",
       "      <td>...</td>\n",
       "      <td>3.511905</td>\n",
       "      <td>3.474702</td>\n",
       "      <td>3.403274</td>\n",
       "      <td>3.407738</td>\n",
       "      <td>3.558036</td>\n",
       "      <td>3.437500</td>\n",
       "      <td>3.312500</td>\n",
       "      <td>4.379464</td>\n",
       "      <td>4.346726</td>\n",
       "      <td>4.049107</td>\n",
       "    </tr>\n",
       "    <tr>\n",
       "      <th>2014-03</th>\n",
       "      <td>1017.1</td>\n",
       "      <td>20.9</td>\n",
       "      <td>18.7</td>\n",
       "      <td>17.0</td>\n",
       "      <td>15.7</td>\n",
       "      <td>83</td>\n",
       "      <td>77</td>\n",
       "      <td>207.6</td>\n",
       "      <td>60</td>\n",
       "      <td>24.1</td>\n",
       "      <td>...</td>\n",
       "      <td>3.897849</td>\n",
       "      <td>3.901882</td>\n",
       "      <td>3.767473</td>\n",
       "      <td>3.719086</td>\n",
       "      <td>3.744624</td>\n",
       "      <td>3.721774</td>\n",
       "      <td>3.716398</td>\n",
       "      <td>5.024194</td>\n",
       "      <td>4.790323</td>\n",
       "      <td>4.494624</td>\n",
       "    </tr>\n",
       "    <tr>\n",
       "      <th>2014-04</th>\n",
       "      <td>1013.4</td>\n",
       "      <td>24.9</td>\n",
       "      <td>22.6</td>\n",
       "      <td>21.0</td>\n",
       "      <td>20.0</td>\n",
       "      <td>86</td>\n",
       "      <td>72</td>\n",
       "      <td>132.4</td>\n",
       "      <td>80</td>\n",
       "      <td>20.6</td>\n",
       "      <td>...</td>\n",
       "      <td>4.166667</td>\n",
       "      <td>4.075000</td>\n",
       "      <td>3.943056</td>\n",
       "      <td>3.919444</td>\n",
       "      <td>3.751389</td>\n",
       "      <td>3.820833</td>\n",
       "      <td>3.912500</td>\n",
       "      <td>4.962500</td>\n",
       "      <td>4.919444</td>\n",
       "      <td>4.898611</td>\n",
       "    </tr>\n",
       "    <tr>\n",
       "      <th>2014-05</th>\n",
       "      <td>1009.5</td>\n",
       "      <td>28.6</td>\n",
       "      <td>26.4</td>\n",
       "      <td>24.6</td>\n",
       "      <td>23.7</td>\n",
       "      <td>86</td>\n",
       "      <td>82</td>\n",
       "      <td>687.3</td>\n",
       "      <td>240</td>\n",
       "      <td>23.7</td>\n",
       "      <td>...</td>\n",
       "      <td>3.068548</td>\n",
       "      <td>2.803763</td>\n",
       "      <td>2.782258</td>\n",
       "      <td>2.646505</td>\n",
       "      <td>2.631720</td>\n",
       "      <td>2.775538</td>\n",
       "      <td>2.837366</td>\n",
       "      <td>3.750000</td>\n",
       "      <td>3.473118</td>\n",
       "      <td>3.483871</td>\n",
       "    </tr>\n",
       "  </tbody>\n",
       "</table>\n",
       "<p>5 rows × 24 columns</p>\n",
       "</div>"
      ],
      "text/plain": [
       "         Mean Pressure (hPa)  Mean Daily Max Air Temp (C°)  \\\n",
       "2014-01               1021.3                          19.2   \n",
       "2014-02               1017.7                          17.9   \n",
       "2014-03               1017.1                          20.9   \n",
       "2014-04               1013.4                          24.9   \n",
       "2014-05               1009.5                          28.6   \n",
       "\n",
       "         Mean Air Temp (C°)  Mean Daily Min Air Temp (C°)  \\\n",
       "2014-01                16.3                          14.1   \n",
       "2014-02                15.5                          13.5   \n",
       "2014-03                18.7                          17.0   \n",
       "2014-04                22.6                          21.0   \n",
       "2014-05                26.4                          24.6   \n",
       "\n",
       "         Mean Dew Point (C°)  Mean Relative Humidity (%)  \\\n",
       "2014-01                  9.9                          67   \n",
       "2014-02                 12.3                          82   \n",
       "2014-03                 15.7                          83   \n",
       "2014-04                 20.0                          86   \n",
       "2014-05                 23.7                          86   \n",
       "\n",
       "         Mean Amount of Cloud Coverage (%)  Total Rainfall (mm)  \\\n",
       "2014-01                                 32                  1.0   \n",
       "2014-02                                 73                 39.5   \n",
       "2014-03                                 77                207.6   \n",
       "2014-04                                 72                132.4   \n",
       "2014-05                                 82                687.3   \n",
       "\n",
       "         Prevailing Wind Direction (degrees)  Mean Wind Speed (km/h)  ...  \\\n",
       "2014-01                                   40                    22.9  ...   \n",
       "2014-02                                   50                    26.6  ...   \n",
       "2014-03                                   60                    24.1  ...   \n",
       "2014-04                                   80                    20.6  ...   \n",
       "2014-05                                  240                    23.7  ...   \n",
       "\n",
       "         Kwai Chung  Tsuen Wan  Yuen Long  Tuen Mun  Tung Chung    Tai Po  \\\n",
       "2014-01    5.181452   5.119624   5.233871  5.362903    5.282258  4.696237   \n",
       "2014-02    3.511905   3.474702   3.403274  3.407738    3.558036  3.437500   \n",
       "2014-03    3.897849   3.901882   3.767473  3.719086    3.744624  3.721774   \n",
       "2014-04    4.166667   4.075000   3.943056  3.919444    3.751389  3.820833   \n",
       "2014-05    3.068548   2.803763   2.782258  2.646505    2.631720  2.775538   \n",
       "\n",
       "          Sha Tin  Causeway Bay   Central  Mong Kok  \n",
       "2014-01  4.931452      6.310484  6.110215  5.631720  \n",
       "2014-02  3.312500      4.379464  4.346726  4.049107  \n",
       "2014-03  3.716398      5.024194  4.790323  4.494624  \n",
       "2014-04  3.912500      4.962500  4.919444  4.898611  \n",
       "2014-05  2.837366      3.750000  3.473118  3.483871  \n",
       "\n",
       "[5 rows x 24 columns]"
      ]
     },
     "execution_count": 20,
     "metadata": {},
     "output_type": "execute_result"
    }
   ],
   "source": [
    "df.head()"
   ]
  },
  {
   "cell_type": "markdown",
   "metadata": {},
   "source": [
    "**Examine shape of all dataframes to confirm proper concat.**"
   ]
  },
  {
   "cell_type": "code",
   "execution_count": 21,
   "metadata": {},
   "outputs": [
    {
     "data": {
      "text/plain": [
       "(84, 14)"
      ]
     },
     "execution_count": 21,
     "metadata": {},
     "output_type": "execute_result"
    }
   ],
   "source": [
    "pollution.shape"
   ]
  },
  {
   "cell_type": "code",
   "execution_count": 22,
   "metadata": {},
   "outputs": [
    {
     "data": {
      "text/plain": [
       "(84, 10)"
      ]
     },
     "execution_count": 22,
     "metadata": {},
     "output_type": "execute_result"
    }
   ],
   "source": [
    "weather.shape"
   ]
  },
  {
   "cell_type": "code",
   "execution_count": 23,
   "metadata": {},
   "outputs": [
    {
     "data": {
      "text/plain": [
       "(84, 24)"
      ]
     },
     "execution_count": 23,
     "metadata": {},
     "output_type": "execute_result"
    }
   ],
   "source": [
    "df.shape"
   ]
  },
  {
   "cell_type": "markdown",
   "metadata": {},
   "source": [
    "## Handle Missing Data -- we have none!"
   ]
  },
  {
   "cell_type": "code",
   "execution_count": 24,
   "metadata": {},
   "outputs": [
    {
     "name": "stdout",
     "output_type": "stream",
     "text": [
      "There are 0 null values in df.\n"
     ]
    }
   ],
   "source": [
    "print('There are {} null values in df.'.format(df.isnull().sum().sum()))"
   ]
  },
  {
   "cell_type": "markdown",
   "metadata": {},
   "source": [
    "# Export data to new csv file"
   ]
  },
  {
   "cell_type": "code",
   "execution_count": 25,
   "metadata": {},
   "outputs": [],
   "source": [
    "df.to_csv(data_path + 'joined_weather_pollution_all_districts.csv')"
   ]
  },
  {
   "cell_type": "code",
   "execution_count": null,
   "metadata": {},
   "outputs": [],
   "source": []
  }
 ],
 "metadata": {
  "kernelspec": {
   "display_name": "hkpollution3",
   "language": "python",
   "name": "hkpollution3"
  },
  "language_info": {
   "codemirror_mode": {
    "name": "ipython",
    "version": 3
   },
   "file_extension": ".py",
   "mimetype": "text/x-python",
   "name": "python",
   "nbconvert_exporter": "python",
   "pygments_lexer": "ipython3",
   "version": "3.8.5"
  }
 },
 "nbformat": 4,
 "nbformat_minor": 4
}
