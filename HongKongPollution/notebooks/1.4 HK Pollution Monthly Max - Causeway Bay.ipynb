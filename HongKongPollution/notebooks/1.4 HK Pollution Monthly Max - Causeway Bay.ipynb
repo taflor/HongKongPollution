{
 "cells": [
  {
   "cell_type": "markdown",
   "metadata": {},
   "source": [
    "# Hong Kong Pollution: Daily Max @ Causeway Bay\n",
    "\n",
    "Causeway Bay AQHI has been selected as the city we are interested in predicting due to the fact that CWB has been rated by both [backpackers](link:https://www.thebrokebackpacker.com/where-to-stay-in-hong-kong/) and [others](link:https://misstourist.com/where-to-stay-in-hong-kong-best-hotels/) as the best location for families to stay. Since children and elderly are [most at risk for pollution related issues](link:https://www.health.nsw.gov.au/environment/air/Pages/who-is-affected.aspx), it is the most relevant AQHI to this study.\n",
    "\n",
    "**The Data Science Method**  \n",
    "\n",
    "\n",
    "0.   Problem Identification \n",
    "\n",
    "1.   **Data Wrangling** \n",
    "  * Data Collection\n",
    "      - Locating the data\n",
    "      - Data loading\n",
    "      - Data joining\n",
    "   * Data Organization\n",
    "      -  File structure\n",
    "      -  Git & Github\n",
    "  * Data Definition\n",
    "      - Column names\n",
    "      - Data types (numeric, categorical, timestamp, etc.)\n",
    "      - Description of the columns\n",
    "      - Count or percent per unique values or codes (including NA)\n",
    "      - The range of values or codes  \n",
    "  * Data Cleaning\n",
    "      - NA or missing data\n",
    "      - Duplicates\n",
    " \n",
    "2.   Exploratory Data Analysis \n",
    "\n",
    "3.   Pre-processing and Training Data Development\n",
    "\n",
    "4.   Modeling \n",
    "\n",
    "5.   Documentation"
   ]
  },
  {
   "cell_type": "markdown",
   "metadata": {},
   "source": [
    "# Data Collection\n",
    "Load required packages and modules into Python. Then load the data into a pandas dataframe for ease of use."
   ]
  },
  {
   "cell_type": "code",
   "execution_count": 1,
   "metadata": {},
   "outputs": [],
   "source": [
    "import os\n",
    "import pandas as pd\n",
    "import matplotlib.pyplot as plt\n",
    "import datetime as dt\n",
    "\n",
    "%matplotlib inline"
   ]
  },
  {
   "cell_type": "markdown",
   "metadata": {},
   "source": [
    "**Save current working directory and parent path.**"
   ]
  },
  {
   "cell_type": "code",
   "execution_count": 2,
   "metadata": {},
   "outputs": [
    {
     "name": "stdout",
     "output_type": "stream",
     "text": [
      "/Users/tiffanyflor/Dropbox/MyProjects/HongKongPollution/HongKongPollution\n"
     ]
    }
   ],
   "source": [
    "path = os.getcwd()\n",
    "parent = os.path.dirname(path)\n",
    "print(parent)"
   ]
  },
  {
   "cell_type": "markdown",
   "metadata": {},
   "source": [
    "**Save data/interim/ directory path and print contents.**"
   ]
  },
  {
   "cell_type": "code",
   "execution_count": 3,
   "metadata": {},
   "outputs": [],
   "source": [
    "data_path = parent + '/data/interim/'"
   ]
  },
  {
   "cell_type": "code",
   "execution_count": 4,
   "metadata": {},
   "outputs": [
    {
     "data": {
      "text/plain": [
       "['monthly_pollution_2014_2020.csv',\n",
       " 'daily_max_pollution.csv',\n",
       " 'hourly_pollution.csv',\n",
       " '.gitkeep',\n",
       " 'pollution_monthly_min_2014_2020.csv',\n",
       " 'pollution_monthly_max_2014_2020.csv',\n",
       " '1.4_cwb_pollution_daily_max.csv',\n",
       " 'joined_weather_pollution_all_districts.csv',\n",
       " 'cleaned_weather_2014_2020.csv']"
      ]
     },
     "execution_count": 4,
     "metadata": {},
     "output_type": "execute_result"
    }
   ],
   "source": [
    "os.listdir(data_path)"
   ]
  },
  {
   "cell_type": "markdown",
   "metadata": {},
   "source": [
    "## Load daily max pollution data from csv file"
   ]
  },
  {
   "cell_type": "code",
   "execution_count": 5,
   "metadata": {},
   "outputs": [
    {
     "data": {
      "text/html": [
       "<div>\n",
       "<style scoped>\n",
       "    .dataframe tbody tr th:only-of-type {\n",
       "        vertical-align: middle;\n",
       "    }\n",
       "\n",
       "    .dataframe tbody tr th {\n",
       "        vertical-align: top;\n",
       "    }\n",
       "\n",
       "    .dataframe thead th {\n",
       "        text-align: right;\n",
       "    }\n",
       "</style>\n",
       "<table border=\"1\" class=\"dataframe\">\n",
       "  <thead>\n",
       "    <tr style=\"text-align: right;\">\n",
       "      <th></th>\n",
       "      <th>Date</th>\n",
       "      <th>Central/Western</th>\n",
       "      <th>Eastern</th>\n",
       "      <th>Kwun Tong</th>\n",
       "      <th>Sham Shui Po</th>\n",
       "      <th>Kwai Chung</th>\n",
       "      <th>Tsuen Wan</th>\n",
       "      <th>Yuen Long</th>\n",
       "      <th>Tuen Mun</th>\n",
       "      <th>Tung Chung</th>\n",
       "      <th>Tai Po</th>\n",
       "      <th>Sha Tin</th>\n",
       "      <th>Causeway Bay</th>\n",
       "      <th>Central</th>\n",
       "      <th>Mong Kok</th>\n",
       "    </tr>\n",
       "  </thead>\n",
       "  <tbody>\n",
       "    <tr>\n",
       "      <th>0</th>\n",
       "      <td>2014-01-31</td>\n",
       "      <td>6.387097</td>\n",
       "      <td>5.741935</td>\n",
       "      <td>6.677419</td>\n",
       "      <td>6.548387</td>\n",
       "      <td>6.419355</td>\n",
       "      <td>6.516129</td>\n",
       "      <td>6.580645</td>\n",
       "      <td>6.677419</td>\n",
       "      <td>7.032258</td>\n",
       "      <td>5.806452</td>\n",
       "      <td>6.225806</td>\n",
       "      <td>8.064516</td>\n",
       "      <td>7.806452</td>\n",
       "      <td>7.258065</td>\n",
       "    </tr>\n",
       "    <tr>\n",
       "      <th>1</th>\n",
       "      <td>2014-02-28</td>\n",
       "      <td>4.178571</td>\n",
       "      <td>3.857143</td>\n",
       "      <td>4.142857</td>\n",
       "      <td>4.357143</td>\n",
       "      <td>4.250000</td>\n",
       "      <td>4.321429</td>\n",
       "      <td>4.285714</td>\n",
       "      <td>4.321429</td>\n",
       "      <td>4.428571</td>\n",
       "      <td>4.071429</td>\n",
       "      <td>4.000000</td>\n",
       "      <td>5.678571</td>\n",
       "      <td>5.750000</td>\n",
       "      <td>5.035714</td>\n",
       "    </tr>\n",
       "    <tr>\n",
       "      <th>2</th>\n",
       "      <td>2014-03-31</td>\n",
       "      <td>4.870968</td>\n",
       "      <td>4.354839</td>\n",
       "      <td>4.741935</td>\n",
       "      <td>4.967742</td>\n",
       "      <td>4.967742</td>\n",
       "      <td>4.935484</td>\n",
       "      <td>4.580645</td>\n",
       "      <td>4.709677</td>\n",
       "      <td>4.645161</td>\n",
       "      <td>4.580645</td>\n",
       "      <td>4.483871</td>\n",
       "      <td>6.709677</td>\n",
       "      <td>6.064516</td>\n",
       "      <td>5.677419</td>\n",
       "    </tr>\n",
       "    <tr>\n",
       "      <th>3</th>\n",
       "      <td>2014-04-30</td>\n",
       "      <td>4.966667</td>\n",
       "      <td>4.800000</td>\n",
       "      <td>5.000000</td>\n",
       "      <td>5.200000</td>\n",
       "      <td>5.033333</td>\n",
       "      <td>4.900000</td>\n",
       "      <td>4.966667</td>\n",
       "      <td>4.800000</td>\n",
       "      <td>4.666667</td>\n",
       "      <td>4.533333</td>\n",
       "      <td>4.833333</td>\n",
       "      <td>6.166667</td>\n",
       "      <td>6.133333</td>\n",
       "      <td>6.200000</td>\n",
       "    </tr>\n",
       "    <tr>\n",
       "      <th>4</th>\n",
       "      <td>2014-05-31</td>\n",
       "      <td>3.322581</td>\n",
       "      <td>3.387097</td>\n",
       "      <td>3.806452</td>\n",
       "      <td>3.774194</td>\n",
       "      <td>3.741935</td>\n",
       "      <td>3.387097</td>\n",
       "      <td>3.451613</td>\n",
       "      <td>3.225806</td>\n",
       "      <td>3.064516</td>\n",
       "      <td>3.419355</td>\n",
       "      <td>3.419355</td>\n",
       "      <td>5.258065</td>\n",
       "      <td>4.516129</td>\n",
       "      <td>4.387097</td>\n",
       "    </tr>\n",
       "  </tbody>\n",
       "</table>\n",
       "</div>"
      ],
      "text/plain": [
       "         Date  Central/Western   Eastern  Kwun Tong  Sham Shui Po  Kwai Chung  \\\n",
       "0  2014-01-31         6.387097  5.741935   6.677419      6.548387    6.419355   \n",
       "1  2014-02-28         4.178571  3.857143   4.142857      4.357143    4.250000   \n",
       "2  2014-03-31         4.870968  4.354839   4.741935      4.967742    4.967742   \n",
       "3  2014-04-30         4.966667  4.800000   5.000000      5.200000    5.033333   \n",
       "4  2014-05-31         3.322581  3.387097   3.806452      3.774194    3.741935   \n",
       "\n",
       "   Tsuen Wan  Yuen Long  Tuen Mun  Tung Chung    Tai Po   Sha Tin  \\\n",
       "0   6.516129   6.580645  6.677419    7.032258  5.806452  6.225806   \n",
       "1   4.321429   4.285714  4.321429    4.428571  4.071429  4.000000   \n",
       "2   4.935484   4.580645  4.709677    4.645161  4.580645  4.483871   \n",
       "3   4.900000   4.966667  4.800000    4.666667  4.533333  4.833333   \n",
       "4   3.387097   3.451613  3.225806    3.064516  3.419355  3.419355   \n",
       "\n",
       "   Causeway Bay   Central  Mong Kok  \n",
       "0      8.064516  7.806452  7.258065  \n",
       "1      5.678571  5.750000  5.035714  \n",
       "2      6.709677  6.064516  5.677419  \n",
       "3      6.166667  6.133333  6.200000  \n",
       "4      5.258065  4.516129  4.387097  "
      ]
     },
     "execution_count": 5,
     "metadata": {},
     "output_type": "execute_result"
    }
   ],
   "source": [
    "df_all = pd.read_csv(data_path+'pollution_monthly_max_2014_2020.csv')\n",
    "df_all.head()"
   ]
  },
  {
   "cell_type": "markdown",
   "metadata": {},
   "source": [
    "## Isolate Causeway Bay"
   ]
  },
  {
   "cell_type": "code",
   "execution_count": 6,
   "metadata": {},
   "outputs": [
    {
     "data": {
      "text/html": [
       "<div>\n",
       "<style scoped>\n",
       "    .dataframe tbody tr th:only-of-type {\n",
       "        vertical-align: middle;\n",
       "    }\n",
       "\n",
       "    .dataframe tbody tr th {\n",
       "        vertical-align: top;\n",
       "    }\n",
       "\n",
       "    .dataframe thead th {\n",
       "        text-align: right;\n",
       "    }\n",
       "</style>\n",
       "<table border=\"1\" class=\"dataframe\">\n",
       "  <thead>\n",
       "    <tr style=\"text-align: right;\">\n",
       "      <th></th>\n",
       "      <th>Date</th>\n",
       "      <th>Causeway Bay</th>\n",
       "    </tr>\n",
       "  </thead>\n",
       "  <tbody>\n",
       "    <tr>\n",
       "      <th>0</th>\n",
       "      <td>2014-01-31</td>\n",
       "      <td>8.064516</td>\n",
       "    </tr>\n",
       "    <tr>\n",
       "      <th>1</th>\n",
       "      <td>2014-02-28</td>\n",
       "      <td>5.678571</td>\n",
       "    </tr>\n",
       "    <tr>\n",
       "      <th>2</th>\n",
       "      <td>2014-03-31</td>\n",
       "      <td>6.709677</td>\n",
       "    </tr>\n",
       "    <tr>\n",
       "      <th>3</th>\n",
       "      <td>2014-04-30</td>\n",
       "      <td>6.166667</td>\n",
       "    </tr>\n",
       "    <tr>\n",
       "      <th>4</th>\n",
       "      <td>2014-05-31</td>\n",
       "      <td>5.258065</td>\n",
       "    </tr>\n",
       "  </tbody>\n",
       "</table>\n",
       "</div>"
      ],
      "text/plain": [
       "         Date  Causeway Bay\n",
       "0  2014-01-31      8.064516\n",
       "1  2014-02-28      5.678571\n",
       "2  2014-03-31      6.709677\n",
       "3  2014-04-30      6.166667\n",
       "4  2014-05-31      5.258065"
      ]
     },
     "execution_count": 6,
     "metadata": {},
     "output_type": "execute_result"
    }
   ],
   "source": [
    "df = df_all[['Date','Causeway Bay']]\n",
    "df.head()"
   ]
  },
  {
   "cell_type": "code",
   "execution_count": 7,
   "metadata": {},
   "outputs": [
    {
     "data": {
      "text/plain": [
       "'2014-01-31'"
      ]
     },
     "execution_count": 7,
     "metadata": {},
     "output_type": "execute_result"
    }
   ],
   "source": [
    "df.Date[0]"
   ]
  },
  {
   "cell_type": "markdown",
   "metadata": {},
   "source": [
    "# Data Organization\n",
    "Completed using cookiecutter. See README for structure."
   ]
  },
  {
   "cell_type": "markdown",
   "metadata": {},
   "source": [
    "# Data Definition\n",
    "Review column names, data types, and null values."
   ]
  },
  {
   "cell_type": "markdown",
   "metadata": {},
   "source": [
    "## Column Names"
   ]
  },
  {
   "cell_type": "code",
   "execution_count": 8,
   "metadata": {},
   "outputs": [
    {
     "data": {
      "text/plain": [
       "Index(['Date', 'Causeway Bay'], dtype='object')"
      ]
     },
     "execution_count": 8,
     "metadata": {},
     "output_type": "execute_result"
    }
   ],
   "source": [
    "df.columns"
   ]
  },
  {
   "cell_type": "markdown",
   "metadata": {},
   "source": [
    "## Data Types\n",
    "Review which columns are integer, float, categorical, or dates. Ensure the data types is loaded properly into the dataframe."
   ]
  },
  {
   "cell_type": "code",
   "execution_count": 9,
   "metadata": {},
   "outputs": [
    {
     "name": "stdout",
     "output_type": "stream",
     "text": [
      "<class 'pandas.core.frame.DataFrame'>\n",
      "RangeIndex: 84 entries, 0 to 83\n",
      "Data columns (total 2 columns):\n",
      " #   Column        Non-Null Count  Dtype  \n",
      "---  ------        --------------  -----  \n",
      " 0   Date          84 non-null     object \n",
      " 1   Causeway Bay  84 non-null     float64\n",
      "dtypes: float64(1), object(1)\n",
      "memory usage: 1.4+ KB\n"
     ]
    }
   ],
   "source": [
    "df.info()"
   ]
  },
  {
   "cell_type": "markdown",
   "metadata": {},
   "source": [
    "# Data Cleaning"
   ]
  },
  {
   "cell_type": "markdown",
   "metadata": {},
   "source": [
    "## Change Date to datetime object"
   ]
  },
  {
   "cell_type": "code",
   "execution_count": 11,
   "metadata": {},
   "outputs": [
    {
     "name": "stderr",
     "output_type": "stream",
     "text": [
      "<ipython-input-11-68239123ebe5>:1: SettingWithCopyWarning: \n",
      "A value is trying to be set on a copy of a slice from a DataFrame.\n",
      "Try using .loc[row_indexer,col_indexer] = value instead\n",
      "\n",
      "See the caveats in the documentation: https://pandas.pydata.org/pandas-docs/stable/user_guide/indexing.html#returning-a-view-versus-a-copy\n",
      "  df['Date'] = pd.to_datetime(df['Date'])\n"
     ]
    },
    {
     "data": {
      "text/html": [
       "<div>\n",
       "<style scoped>\n",
       "    .dataframe tbody tr th:only-of-type {\n",
       "        vertical-align: middle;\n",
       "    }\n",
       "\n",
       "    .dataframe tbody tr th {\n",
       "        vertical-align: top;\n",
       "    }\n",
       "\n",
       "    .dataframe thead th {\n",
       "        text-align: right;\n",
       "    }\n",
       "</style>\n",
       "<table border=\"1\" class=\"dataframe\">\n",
       "  <thead>\n",
       "    <tr style=\"text-align: right;\">\n",
       "      <th></th>\n",
       "      <th>Date</th>\n",
       "      <th>Causeway Bay</th>\n",
       "    </tr>\n",
       "  </thead>\n",
       "  <tbody>\n",
       "    <tr>\n",
       "      <th>0</th>\n",
       "      <td>2014-01-31</td>\n",
       "      <td>8.064516</td>\n",
       "    </tr>\n",
       "    <tr>\n",
       "      <th>1</th>\n",
       "      <td>2014-02-28</td>\n",
       "      <td>5.678571</td>\n",
       "    </tr>\n",
       "    <tr>\n",
       "      <th>2</th>\n",
       "      <td>2014-03-31</td>\n",
       "      <td>6.709677</td>\n",
       "    </tr>\n",
       "    <tr>\n",
       "      <th>3</th>\n",
       "      <td>2014-04-30</td>\n",
       "      <td>6.166667</td>\n",
       "    </tr>\n",
       "    <tr>\n",
       "      <th>4</th>\n",
       "      <td>2014-05-31</td>\n",
       "      <td>5.258065</td>\n",
       "    </tr>\n",
       "  </tbody>\n",
       "</table>\n",
       "</div>"
      ],
      "text/plain": [
       "        Date  Causeway Bay\n",
       "0 2014-01-31      8.064516\n",
       "1 2014-02-28      5.678571\n",
       "2 2014-03-31      6.709677\n",
       "3 2014-04-30      6.166667\n",
       "4 2014-05-31      5.258065"
      ]
     },
     "execution_count": 11,
     "metadata": {},
     "output_type": "execute_result"
    }
   ],
   "source": [
    "df['Date'] = pd.to_datetime(df['Date'])\n",
    "df.head()"
   ]
  },
  {
   "cell_type": "code",
   "execution_count": 12,
   "metadata": {},
   "outputs": [
    {
     "data": {
      "text/plain": [
       "Date            datetime64[ns]\n",
       "Causeway Bay           float64\n",
       "dtype: object"
      ]
     },
     "execution_count": 12,
     "metadata": {},
     "output_type": "execute_result"
    }
   ],
   "source": [
    "df.dtypes"
   ]
  },
  {
   "cell_type": "code",
   "execution_count": 13,
   "metadata": {},
   "outputs": [
    {
     "data": {
      "text/html": [
       "<div>\n",
       "<style scoped>\n",
       "    .dataframe tbody tr th:only-of-type {\n",
       "        vertical-align: middle;\n",
       "    }\n",
       "\n",
       "    .dataframe tbody tr th {\n",
       "        vertical-align: top;\n",
       "    }\n",
       "\n",
       "    .dataframe thead th {\n",
       "        text-align: right;\n",
       "    }\n",
       "</style>\n",
       "<table border=\"1\" class=\"dataframe\">\n",
       "  <thead>\n",
       "    <tr style=\"text-align: right;\">\n",
       "      <th></th>\n",
       "      <th>Causeway Bay</th>\n",
       "    </tr>\n",
       "    <tr>\n",
       "      <th>Date</th>\n",
       "      <th></th>\n",
       "    </tr>\n",
       "  </thead>\n",
       "  <tbody>\n",
       "    <tr>\n",
       "      <th>2014-01-31</th>\n",
       "      <td>8.064516</td>\n",
       "    </tr>\n",
       "    <tr>\n",
       "      <th>2014-02-28</th>\n",
       "      <td>5.678571</td>\n",
       "    </tr>\n",
       "    <tr>\n",
       "      <th>2014-03-31</th>\n",
       "      <td>6.709677</td>\n",
       "    </tr>\n",
       "    <tr>\n",
       "      <th>2014-04-30</th>\n",
       "      <td>6.166667</td>\n",
       "    </tr>\n",
       "    <tr>\n",
       "      <th>2014-05-31</th>\n",
       "      <td>5.258065</td>\n",
       "    </tr>\n",
       "  </tbody>\n",
       "</table>\n",
       "</div>"
      ],
      "text/plain": [
       "            Causeway Bay\n",
       "Date                    \n",
       "2014-01-31      8.064516\n",
       "2014-02-28      5.678571\n",
       "2014-03-31      6.709677\n",
       "2014-04-30      6.166667\n",
       "2014-05-31      5.258065"
      ]
     },
     "execution_count": 13,
     "metadata": {},
     "output_type": "execute_result"
    }
   ],
   "source": [
    "# Set index to DateTime and drop Date\n",
    "df = df.set_index('Date')\n",
    "df.head()"
   ]
  },
  {
   "cell_type": "code",
   "execution_count": 17,
   "metadata": {},
   "outputs": [
    {
     "data": {
      "text/html": [
       "<div>\n",
       "<style scoped>\n",
       "    .dataframe tbody tr th:only-of-type {\n",
       "        vertical-align: middle;\n",
       "    }\n",
       "\n",
       "    .dataframe tbody tr th {\n",
       "        vertical-align: top;\n",
       "    }\n",
       "\n",
       "    .dataframe thead th {\n",
       "        text-align: right;\n",
       "    }\n",
       "</style>\n",
       "<table border=\"1\" class=\"dataframe\">\n",
       "  <thead>\n",
       "    <tr style=\"text-align: right;\">\n",
       "      <th></th>\n",
       "      <th>Causeway Bay</th>\n",
       "    </tr>\n",
       "    <tr>\n",
       "      <th>Date</th>\n",
       "      <th></th>\n",
       "    </tr>\n",
       "  </thead>\n",
       "  <tbody>\n",
       "    <tr>\n",
       "      <th>2014-01-31</th>\n",
       "      <td>8.1</td>\n",
       "    </tr>\n",
       "    <tr>\n",
       "      <th>2014-02-28</th>\n",
       "      <td>5.7</td>\n",
       "    </tr>\n",
       "    <tr>\n",
       "      <th>2014-03-31</th>\n",
       "      <td>6.7</td>\n",
       "    </tr>\n",
       "    <tr>\n",
       "      <th>2014-04-30</th>\n",
       "      <td>6.2</td>\n",
       "    </tr>\n",
       "    <tr>\n",
       "      <th>2014-05-31</th>\n",
       "      <td>5.3</td>\n",
       "    </tr>\n",
       "  </tbody>\n",
       "</table>\n",
       "</div>"
      ],
      "text/plain": [
       "            Causeway Bay\n",
       "Date                    \n",
       "2014-01-31           8.1\n",
       "2014-02-28           5.7\n",
       "2014-03-31           6.7\n",
       "2014-04-30           6.2\n",
       "2014-05-31           5.3"
      ]
     },
     "execution_count": 17,
     "metadata": {},
     "output_type": "execute_result"
    }
   ],
   "source": [
    "df['Causeway Bay'] = round(df['Causeway Bay'],1)\n",
    "df.head()"
   ]
  },
  {
   "cell_type": "markdown",
   "metadata": {},
   "source": [
    "## Handle Missing Data -- we have none!"
   ]
  },
  {
   "cell_type": "code",
   "execution_count": 18,
   "metadata": {},
   "outputs": [
    {
     "name": "stdout",
     "output_type": "stream",
     "text": [
      "There are 0 null values in df.\n"
     ]
    }
   ],
   "source": [
    "print('There are {} null values in df.'.format(df.isnull().sum().sum()))"
   ]
  },
  {
   "cell_type": "markdown",
   "metadata": {},
   "source": [
    "# Export data to new csv file"
   ]
  },
  {
   "cell_type": "code",
   "execution_count": 19,
   "metadata": {},
   "outputs": [],
   "source": [
    "df.to_csv(data_path + '1.4_cwb_pollution_monthly_max.csv')"
   ]
  },
  {
   "cell_type": "code",
   "execution_count": null,
   "metadata": {},
   "outputs": [],
   "source": []
  }
 ],
 "metadata": {
  "kernelspec": {
   "display_name": "hkpollution3",
   "language": "python",
   "name": "hkpollution3"
  },
  "language_info": {
   "codemirror_mode": {
    "name": "ipython",
    "version": 3
   },
   "file_extension": ".py",
   "mimetype": "text/x-python",
   "name": "python",
   "nbconvert_exporter": "python",
   "pygments_lexer": "ipython3",
   "version": "3.8.5"
  }
 },
 "nbformat": 4,
 "nbformat_minor": 4
}
