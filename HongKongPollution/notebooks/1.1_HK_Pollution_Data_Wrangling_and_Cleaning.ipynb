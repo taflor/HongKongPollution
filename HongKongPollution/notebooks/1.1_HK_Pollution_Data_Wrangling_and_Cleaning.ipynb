{
 "cells": [
  {
   "cell_type": "markdown",
   "metadata": {},
   "source": [
    "# Hong Kong Pollution: Data Collection & Processing"
   ]
  },
  {
   "cell_type": "markdown",
   "metadata": {},
   "source": [
    "## 1. Load required Python packages\n",
    "The following Python packages are used: os, pandas, datetime, matplotlib.pyplot, numpy"
   ]
  },
  {
   "cell_type": "code",
   "execution_count": 4,
   "metadata": {},
   "outputs": [
    {
     "name": "stderr",
     "output_type": "stream",
     "text": [
      "/Users/tiffanyflor/.pyenv/versions/3.8.2/lib/python3.8/site-packages/pandas/compat/__init__.py:117: UserWarning: Could not import the lzma module. Your installed Python is incomplete. Attempting to use lzma compression will result in a RuntimeError.\n",
      "  warnings.warn(msg)\n"
     ]
    }
   ],
   "source": [
    "# load python packages from environment\n",
    "import os\n",
    "import urllib.request\n",
    "import seaborn as sns\n",
    "import pandas as pd\n",
    "import datetime\n",
    "import matplotlib.pyplot as plt\n",
    "import numpy as np\n",
    "\n",
    "%matplotlib inline"
   ]
  },
  {
   "cell_type": "markdown",
   "metadata": {},
   "source": [
    "<b>Locate and print current working directory.</b>"
   ]
  },
  {
   "cell_type": "code",
   "execution_count": 5,
   "metadata": {},
   "outputs": [
    {
     "name": "stdout",
     "output_type": "stream",
     "text": [
      "/Users/tiffanyflor/Dropbox/MyProjects/HongKongPollution/HongKongPollution/notebooks\n"
     ]
    }
   ],
   "source": [
    "path = os.getcwd()\n",
    "print(path)"
   ]
  },
  {
   "cell_type": "markdown",
   "metadata": {},
   "source": [
    "<b>Get parent directory and append path to raw data.</b>"
   ]
  },
  {
   "cell_type": "code",
   "execution_count": 6,
   "metadata": {},
   "outputs": [
    {
     "name": "stdout",
     "output_type": "stream",
     "text": [
      "/Users/tiffanyflor/Dropbox/MyProjects/HongKongPollution/HongKongPollution/data/raw\n"
     ]
    }
   ],
   "source": [
    "# Create raw data path by getting parent directory of current working directory and appending data/raw\n",
    "parent_path = os.path.dirname(path)\n",
    "rawdata_path = os.path.join(parent_path, 'data', 'raw')\n",
    "print(rawdata_path)"
   ]
  },
  {
   "cell_type": "markdown",
   "metadata": {},
   "source": [
    "## 2. Retrieve and Save Pollution Datasets (Jan 2014 - Sept 2020)\n",
    "<b>Load data into raw data folder from Hong Kong Environmental Protection Department website.\n",
    "<br>https://www.epd.gov.hk/epd/epic/english/data_air_data.html</b>"
   ]
  },
  {
   "cell_type": "code",
   "execution_count": 7,
   "metadata": {},
   "outputs": [],
   "source": [
    "# Save Air Quality Data URLs\n",
    "\n",
    "# 2014\n",
    "url_aqhi_201401 = \"https://www.aqhi.gov.hk/epd/ddata/html/history/2014/201401_Eng.csv\"\n",
    "url_aqhi_201402 = \"https://www.aqhi.gov.hk/epd/ddata/html/history/2014/201402_Eng.csv\"\n",
    "url_aqhi_201403 = \"https://www.aqhi.gov.hk/epd/ddata/html/history/2014/201403_Eng.csv\"\n",
    "url_aqhi_201404 = \"https://www.aqhi.gov.hk/epd/ddata/html/history/2014/201404_Eng.csv\"\n",
    "url_aqhi_201405 = \"https://www.aqhi.gov.hk/epd/ddata/html/history/2014/201405_Eng.csv\"\n",
    "url_aqhi_201406 = \"https://www.aqhi.gov.hk/epd/ddata/html/history/2014/201406_Eng.csv\"\n",
    "url_aqhi_201407 = \"https://www.aqhi.gov.hk/epd/ddata/html/history/2014/201407_Eng.csv\"\n",
    "url_aqhi_201408 = \"https://www.aqhi.gov.hk/epd/ddata/html/history/2014/201408_Eng.csv\"\n",
    "url_aqhi_201409 = \"https://www.aqhi.gov.hk/epd/ddata/html/history/2014/201409_Eng.csv\"\n",
    "url_aqhi_201410 = \"https://www.aqhi.gov.hk/epd/ddata/html/history/2014/201410_Eng.csv\"\n",
    "url_aqhi_201411 = \"https://www.aqhi.gov.hk/epd/ddata/html/history/2014/201411_Eng.csv\"\n",
    "url_aqhi_201412 = \"https://www.aqhi.gov.hk/epd/ddata/html/history/2014/201412_Eng.csv\"\n",
    "\n",
    "# 2015\n",
    "url_aqhi_201501 = \"https://www.aqhi.gov.hk/epd/ddata/html/history/2015/201501_Eng.csv\"\n",
    "url_aqhi_201502 = \"https://www.aqhi.gov.hk/epd/ddata/html/history/2015/201502_Eng.csv\"\n",
    "url_aqhi_201503 = \"https://www.aqhi.gov.hk/epd/ddata/html/history/2015/201503_Eng.csv\"\n",
    "url_aqhi_201504 = \"https://www.aqhi.gov.hk/epd/ddata/html/history/2015/201504_Eng.csv\"\n",
    "url_aqhi_201505 = \"https://www.aqhi.gov.hk/epd/ddata/html/history/2015/201505_Eng.csv\"\n",
    "url_aqhi_201506 = \"https://www.aqhi.gov.hk/epd/ddata/html/history/2015/201506_Eng.csv\"\n",
    "url_aqhi_201507 = \"https://www.aqhi.gov.hk/epd/ddata/html/history/2015/201507_Eng.csv\"\n",
    "url_aqhi_201508 = \"https://www.aqhi.gov.hk/epd/ddata/html/history/2015/201508_Eng.csv\"\n",
    "url_aqhi_201509 = \"https://www.aqhi.gov.hk/epd/ddata/html/history/2015/201509_Eng.csv\"\n",
    "url_aqhi_201510 = \"https://www.aqhi.gov.hk/epd/ddata/html/history/2015/201510_Eng.csv\"\n",
    "url_aqhi_201511 = \"https://www.aqhi.gov.hk/epd/ddata/html/history/2015/201511_Eng.csv\"\n",
    "url_aqhi_201512 = \"https://www.aqhi.gov.hk/epd/ddata/html/history/2015/201512_Eng.csv\"\n",
    "\n",
    "# 2016\n",
    "url_aqhi_201601 = \"https://www.aqhi.gov.hk/epd/ddata/html/history/2016/201601_Eng.csv\"\n",
    "url_aqhi_201602 = \"https://www.aqhi.gov.hk/epd/ddata/html/history/2016/201602_Eng.csv\"\n",
    "url_aqhi_201603 = \"https://www.aqhi.gov.hk/epd/ddata/html/history/2016/201603_Eng.csv\"\n",
    "url_aqhi_201604 = \"https://www.aqhi.gov.hk/epd/ddata/html/history/2016/201604_Eng.csv\"\n",
    "url_aqhi_201605 = \"https://www.aqhi.gov.hk/epd/ddata/html/history/2016/201605_Eng.csv\"\n",
    "url_aqhi_201606 = \"https://www.aqhi.gov.hk/epd/ddata/html/history/2016/201606_Eng.csv\"\n",
    "url_aqhi_201607 = \"https://www.aqhi.gov.hk/epd/ddata/html/history/2016/201607_Eng.csv\"\n",
    "url_aqhi_201608 = \"https://www.aqhi.gov.hk/epd/ddata/html/history/2016/201608_Eng.csv\"\n",
    "url_aqhi_201609 = \"https://www.aqhi.gov.hk/epd/ddata/html/history/2016/201609_Eng.csv\"\n",
    "url_aqhi_201610 = \"https://www.aqhi.gov.hk/epd/ddata/html/history/2016/201610_Eng.csv\"\n",
    "url_aqhi_201611 = \"https://www.aqhi.gov.hk/epd/ddata/html/history/2016/201611_Eng.csv\"\n",
    "url_aqhi_201612 = \"https://www.aqhi.gov.hk/epd/ddata/html/history/2016/201612_Eng.csv\"\n",
    "\n",
    "# 2017\n",
    "url_aqhi_201701 = \"https://www.aqhi.gov.hk/epd/ddata/html/history/2017/201701_Eng.csv\"\n",
    "url_aqhi_201702 = \"https://www.aqhi.gov.hk/epd/ddata/html/history/2017/201702_Eng.csv\"\n",
    "url_aqhi_201703 = \"https://www.aqhi.gov.hk/epd/ddata/html/history/2017/201703_Eng.csv\"\n",
    "url_aqhi_201704 = \"https://www.aqhi.gov.hk/epd/ddata/html/history/2017/201704_Eng.csv\"\n",
    "url_aqhi_201705 = \"https://www.aqhi.gov.hk/epd/ddata/html/history/2017/201705_Eng.csv\"\n",
    "url_aqhi_201706 = \"https://www.aqhi.gov.hk/epd/ddata/html/history/2017/201706_Eng.csv\"\n",
    "url_aqhi_201707 = \"https://www.aqhi.gov.hk/epd/ddata/html/history/2017/201707_Eng.csv\"\n",
    "url_aqhi_201708 = \"https://www.aqhi.gov.hk/epd/ddata/html/history/2017/201708_Eng.csv\"\n",
    "url_aqhi_201709 = \"https://www.aqhi.gov.hk/epd/ddata/html/history/2017/201709_Eng.csv\"\n",
    "url_aqhi_201710 = \"https://www.aqhi.gov.hk/epd/ddata/html/history/2017/201710_Eng.csv\"\n",
    "url_aqhi_201711 = \"https://www.aqhi.gov.hk/epd/ddata/html/history/2017/201711_Eng.csv\"\n",
    "url_aqhi_201712 = \"https://www.aqhi.gov.hk/epd/ddata/html/history/2017/201712_Eng.csv\"\n",
    "\n",
    "# 2018\n",
    "url_aqhi_201801 = \"https://www.aqhi.gov.hk/epd/ddata/html/history/2018/201801_Eng.csv\"\n",
    "url_aqhi_201802 = \"https://www.aqhi.gov.hk/epd/ddata/html/history/2018/201802_Eng.csv\"\n",
    "url_aqhi_201803 = \"https://www.aqhi.gov.hk/epd/ddata/html/history/2018/201803_Eng.csv\"\n",
    "url_aqhi_201804 = \"https://www.aqhi.gov.hk/epd/ddata/html/history/2018/201804_Eng.csv\"\n",
    "url_aqhi_201805 = \"https://www.aqhi.gov.hk/epd/ddata/html/history/2018/201805_Eng.csv\"\n",
    "url_aqhi_201806 = \"https://www.aqhi.gov.hk/epd/ddata/html/history/2018/201806_Eng.csv\"\n",
    "url_aqhi_201807 = \"https://www.aqhi.gov.hk/epd/ddata/html/history/2018/201807_Eng.csv\"\n",
    "url_aqhi_201808 = \"https://www.aqhi.gov.hk/epd/ddata/html/history/2018/201808_Eng.csv\"\n",
    "url_aqhi_201809 = \"https://www.aqhi.gov.hk/epd/ddata/html/history/2018/201809_Eng.csv\"\n",
    "url_aqhi_201810 = \"https://www.aqhi.gov.hk/epd/ddata/html/history/2018/201810_Eng.csv\"\n",
    "url_aqhi_201811 = \"https://www.aqhi.gov.hk/epd/ddata/html/history/2018/201811_Eng.csv\"\n",
    "url_aqhi_201812 = \"https://www.aqhi.gov.hk/epd/ddata/html/history/2018/201812_Eng.csv\"\n",
    "\n",
    "# 2019\n",
    "url_aqhi_201901 = \"https://www.aqhi.gov.hk/epd/ddata/html/history/2019/201901_Eng.csv\"\n",
    "url_aqhi_201902 = \"https://www.aqhi.gov.hk/epd/ddata/html/history/2019/201902_Eng.csv\"\n",
    "url_aqhi_201903 = \"https://www.aqhi.gov.hk/epd/ddata/html/history/2019/201903_Eng.csv\"\n",
    "url_aqhi_201904 = \"https://www.aqhi.gov.hk/epd/ddata/html/history/2019/201904_Eng.csv\"\n",
    "url_aqhi_201905 = \"https://www.aqhi.gov.hk/epd/ddata/html/history/2019/201905_Eng.csv\"\n",
    "url_aqhi_201906 = \"https://www.aqhi.gov.hk/epd/ddata/html/history/2019/201906_Eng.csv\"\n",
    "url_aqhi_201907 = \"https://www.aqhi.gov.hk/epd/ddata/html/history/2019/201907_Eng.csv\"\n",
    "url_aqhi_201908 = \"https://www.aqhi.gov.hk/epd/ddata/html/history/2019/201908_Eng.csv\"\n",
    "url_aqhi_201909 = \"https://www.aqhi.gov.hk/epd/ddata/html/history/2019/201909_Eng.csv\"\n",
    "url_aqhi_201910 = \"https://www.aqhi.gov.hk/epd/ddata/html/history/2019/201910_Eng.csv\"\n",
    "url_aqhi_201911 = \"https://www.aqhi.gov.hk/epd/ddata/html/history/2019/201911_Eng.csv\"\n",
    "url_aqhi_201912 = \"https://www.aqhi.gov.hk/epd/ddata/html/history/2019/201912_Eng.csv\"\n",
    "\n",
    "# 2020\n",
    "url_aqhi_202001 = \"https://www.aqhi.gov.hk/epd/ddata/html/history/2020/202001_Eng.csv\"\n",
    "url_aqhi_202002 = \"https://www.aqhi.gov.hk/epd/ddata/html/history/2020/202002_Eng.csv\"\n",
    "url_aqhi_202003 = \"https://www.aqhi.gov.hk/epd/ddata/html/history/2020/202003_Eng.csv\"\n",
    "url_aqhi_202004 = \"https://www.aqhi.gov.hk/epd/ddata/html/history/2020/202004_Eng.csv\"\n",
    "url_aqhi_202005 = \"https://www.aqhi.gov.hk/epd/ddata/html/history/2020/202005_Eng.csv\"\n",
    "url_aqhi_202006 = \"https://www.aqhi.gov.hk/epd/ddata/html/history/2020/202006_Eng.csv\"\n",
    "url_aqhi_202007 = \"https://www.aqhi.gov.hk/epd/ddata/html/history/2020/202007_Eng.csv\"\n",
    "url_aqhi_202008 = \"https://www.aqhi.gov.hk/epd/ddata/html/history/2020/202008_Eng.csv\"\n",
    "url_aqhi_202009 = \"https://www.aqhi.gov.hk/epd/ddata/html/history/2020/202009_Eng.csv\""
   ]
  },
  {
   "cell_type": "code",
   "execution_count": 8,
   "metadata": {},
   "outputs": [
    {
     "data": {
      "text/plain": [
       "('/Users/tiffanyflor/Dropbox/MyProjects/HongKongPollution/HongKongPollution/data/raw/aqhi_202009.csv',\n",
       " <http.client.HTTPMessage at 0x11c279040>)"
      ]
     },
     "execution_count": 8,
     "metadata": {},
     "output_type": "execute_result"
    }
   ],
   "source": [
    "# Save AQI csvs into data/raw folder using rawdata_path variable\n",
    "\n",
    "# 2014\n",
    "urllib.request.urlretrieve (url_aqhi_201401, os.path.join(rawdata_path, 'aqhi_201401.csv'))\n",
    "urllib.request.urlretrieve (url_aqhi_201402, os.path.join(rawdata_path, 'aqhi_201402.csv'))\n",
    "urllib.request.urlretrieve (url_aqhi_201403, os.path.join(rawdata_path, 'aqhi_201403.csv'))\n",
    "urllib.request.urlretrieve (url_aqhi_201404, os.path.join(rawdata_path, 'aqhi_201404.csv'))\n",
    "urllib.request.urlretrieve (url_aqhi_201405, os.path.join(rawdata_path, 'aqhi_201405.csv'))\n",
    "urllib.request.urlretrieve (url_aqhi_201406, os.path.join(rawdata_path, 'aqhi_201406.csv'))\n",
    "urllib.request.urlretrieve (url_aqhi_201407, os.path.join(rawdata_path, 'aqhi_201407.csv'))\n",
    "urllib.request.urlretrieve (url_aqhi_201408, os.path.join(rawdata_path, 'aqhi_201408.csv'))\n",
    "urllib.request.urlretrieve (url_aqhi_201409, os.path.join(rawdata_path, 'aqhi_201409.csv'))\n",
    "urllib.request.urlretrieve (url_aqhi_201410, os.path.join(rawdata_path, 'aqhi_201410.csv'))\n",
    "urllib.request.urlretrieve (url_aqhi_201411, os.path.join(rawdata_path, 'aqhi_201411.csv'))\n",
    "urllib.request.urlretrieve (url_aqhi_201412, os.path.join(rawdata_path, 'aqhi_201412.csv'))\n",
    "\n",
    "# 2015\n",
    "urllib.request.urlretrieve (url_aqhi_201501, os.path.join(rawdata_path, 'aqhi_201501.csv'))\n",
    "urllib.request.urlretrieve (url_aqhi_201502, os.path.join(rawdata_path, 'aqhi_201502.csv'))\n",
    "urllib.request.urlretrieve (url_aqhi_201503, os.path.join(rawdata_path, 'aqhi_201503.csv'))\n",
    "urllib.request.urlretrieve (url_aqhi_201504, os.path.join(rawdata_path, 'aqhi_201504.csv'))\n",
    "urllib.request.urlretrieve (url_aqhi_201505, os.path.join(rawdata_path, 'aqhi_201505.csv'))\n",
    "urllib.request.urlretrieve (url_aqhi_201506, os.path.join(rawdata_path, 'aqhi_201506.csv'))\n",
    "urllib.request.urlretrieve (url_aqhi_201507, os.path.join(rawdata_path, 'aqhi_201507.csv'))\n",
    "urllib.request.urlretrieve (url_aqhi_201508, os.path.join(rawdata_path, 'aqhi_201508.csv'))\n",
    "urllib.request.urlretrieve (url_aqhi_201509, os.path.join(rawdata_path, 'aqhi_201509.csv'))\n",
    "urllib.request.urlretrieve (url_aqhi_201510, os.path.join(rawdata_path, 'aqhi_201510.csv'))\n",
    "urllib.request.urlretrieve (url_aqhi_201511, os.path.join(rawdata_path, 'aqhi_201511.csv'))\n",
    "urllib.request.urlretrieve (url_aqhi_201512, os.path.join(rawdata_path, 'aqhi_201512.csv'))\n",
    "\n",
    "# 2016\n",
    "urllib.request.urlretrieve (url_aqhi_201601, os.path.join(rawdata_path, 'aqhi_201601.csv'))\n",
    "urllib.request.urlretrieve (url_aqhi_201602, os.path.join(rawdata_path, 'aqhi_201602.csv'))\n",
    "urllib.request.urlretrieve (url_aqhi_201603, os.path.join(rawdata_path, 'aqhi_201603.csv'))\n",
    "urllib.request.urlretrieve (url_aqhi_201604, os.path.join(rawdata_path, 'aqhi_201604.csv'))\n",
    "urllib.request.urlretrieve (url_aqhi_201605, os.path.join(rawdata_path, 'aqhi_201605.csv'))\n",
    "urllib.request.urlretrieve (url_aqhi_201606, os.path.join(rawdata_path, 'aqhi_201606.csv'))\n",
    "urllib.request.urlretrieve (url_aqhi_201607, os.path.join(rawdata_path, 'aqhi_201607.csv'))\n",
    "urllib.request.urlretrieve (url_aqhi_201608, os.path.join(rawdata_path, 'aqhi_201608.csv'))\n",
    "urllib.request.urlretrieve (url_aqhi_201609, os.path.join(rawdata_path, 'aqhi_201609.csv'))\n",
    "urllib.request.urlretrieve (url_aqhi_201610, os.path.join(rawdata_path, 'aqhi_201610.csv'))\n",
    "urllib.request.urlretrieve (url_aqhi_201611, os.path.join(rawdata_path, 'aqhi_201611.csv'))\n",
    "urllib.request.urlretrieve (url_aqhi_201612, os.path.join(rawdata_path, 'aqhi_201612.csv'))\n",
    "\n",
    "# 2017\n",
    "urllib.request.urlretrieve (url_aqhi_201701, os.path.join(rawdata_path, 'aqhi_201701.csv'))\n",
    "urllib.request.urlretrieve (url_aqhi_201702, os.path.join(rawdata_path, 'aqhi_201702.csv'))\n",
    "urllib.request.urlretrieve (url_aqhi_201703, os.path.join(rawdata_path, 'aqhi_201703.csv'))\n",
    "urllib.request.urlretrieve (url_aqhi_201704, os.path.join(rawdata_path, 'aqhi_201704.csv'))\n",
    "urllib.request.urlretrieve (url_aqhi_201705, os.path.join(rawdata_path, 'aqhi_201705.csv'))\n",
    "urllib.request.urlretrieve (url_aqhi_201706, os.path.join(rawdata_path, 'aqhi_201706.csv'))\n",
    "urllib.request.urlretrieve (url_aqhi_201707, os.path.join(rawdata_path, 'aqhi_201707.csv'))\n",
    "urllib.request.urlretrieve (url_aqhi_201708, os.path.join(rawdata_path, 'aqhi_201708.csv'))\n",
    "urllib.request.urlretrieve (url_aqhi_201709, os.path.join(rawdata_path, 'aqhi_201709.csv'))\n",
    "urllib.request.urlretrieve (url_aqhi_201710, os.path.join(rawdata_path, 'aqhi_201710.csv'))\n",
    "urllib.request.urlretrieve (url_aqhi_201711, os.path.join(rawdata_path, 'aqhi_201711.csv'))\n",
    "urllib.request.urlretrieve (url_aqhi_201712, os.path.join(rawdata_path, 'aqhi_201712.csv'))\n",
    "\n",
    "# 2018\n",
    "urllib.request.urlretrieve (url_aqhi_201801, os.path.join(rawdata_path, 'aqhi_201801.csv'))\n",
    "urllib.request.urlretrieve (url_aqhi_201802, os.path.join(rawdata_path, 'aqhi_201802.csv'))\n",
    "urllib.request.urlretrieve (url_aqhi_201803, os.path.join(rawdata_path, 'aqhi_201803.csv'))\n",
    "urllib.request.urlretrieve (url_aqhi_201804, os.path.join(rawdata_path, 'aqhi_201804.csv'))\n",
    "urllib.request.urlretrieve (url_aqhi_201805, os.path.join(rawdata_path, 'aqhi_201805.csv'))\n",
    "urllib.request.urlretrieve (url_aqhi_201806, os.path.join(rawdata_path, 'aqhi_201806.csv'))\n",
    "urllib.request.urlretrieve (url_aqhi_201807, os.path.join(rawdata_path, 'aqhi_201807.csv'))\n",
    "urllib.request.urlretrieve (url_aqhi_201808, os.path.join(rawdata_path, 'aqhi_201808.csv'))\n",
    "urllib.request.urlretrieve (url_aqhi_201809, os.path.join(rawdata_path, 'aqhi_201809.csv'))\n",
    "urllib.request.urlretrieve (url_aqhi_201810, os.path.join(rawdata_path, 'aqhi_201810.csv'))\n",
    "urllib.request.urlretrieve (url_aqhi_201811, os.path.join(rawdata_path, 'aqhi_201811.csv'))\n",
    "urllib.request.urlretrieve (url_aqhi_201812, os.path.join(rawdata_path, 'aqhi_201812.csv'))\n",
    "\n",
    "# 2019\n",
    "urllib.request.urlretrieve (url_aqhi_201901, os.path.join(rawdata_path, 'aqhi_201901.csv'))\n",
    "urllib.request.urlretrieve (url_aqhi_201902, os.path.join(rawdata_path, 'aqhi_201902.csv'))\n",
    "urllib.request.urlretrieve (url_aqhi_201903, os.path.join(rawdata_path, 'aqhi_201903.csv'))\n",
    "urllib.request.urlretrieve (url_aqhi_201904, os.path.join(rawdata_path, 'aqhi_201904.csv'))\n",
    "urllib.request.urlretrieve (url_aqhi_201905, os.path.join(rawdata_path, 'aqhi_201905.csv'))\n",
    "urllib.request.urlretrieve (url_aqhi_201906, os.path.join(rawdata_path, 'aqhi_201906.csv'))\n",
    "urllib.request.urlretrieve (url_aqhi_201907, os.path.join(rawdata_path, 'aqhi_201907.csv'))\n",
    "urllib.request.urlretrieve (url_aqhi_201908, os.path.join(rawdata_path, 'aqhi_201908.csv'))\n",
    "urllib.request.urlretrieve (url_aqhi_201909, os.path.join(rawdata_path, 'aqhi_201909.csv'))\n",
    "urllib.request.urlretrieve (url_aqhi_201910, os.path.join(rawdata_path, 'aqhi_201910.csv'))\n",
    "urllib.request.urlretrieve (url_aqhi_201911, os.path.join(rawdata_path, 'aqhi_201911.csv'))\n",
    "urllib.request.urlretrieve (url_aqhi_201912, os.path.join(rawdata_path, 'aqhi_201912.csv'))\n",
    "\n",
    "# 2020\n",
    "urllib.request.urlretrieve (url_aqhi_202001, os.path.join(rawdata_path, 'aqhi_202001.csv'))\n",
    "urllib.request.urlretrieve (url_aqhi_202002, os.path.join(rawdata_path, 'aqhi_202002.csv'))\n",
    "urllib.request.urlretrieve (url_aqhi_202003, os.path.join(rawdata_path, 'aqhi_202003.csv'))\n",
    "urllib.request.urlretrieve (url_aqhi_202004, os.path.join(rawdata_path, 'aqhi_202004.csv'))\n",
    "urllib.request.urlretrieve (url_aqhi_202005, os.path.join(rawdata_path, 'aqhi_202005.csv'))\n",
    "urllib.request.urlretrieve (url_aqhi_202006, os.path.join(rawdata_path, 'aqhi_202006.csv'))\n",
    "urllib.request.urlretrieve (url_aqhi_202007, os.path.join(rawdata_path, 'aqhi_202007.csv'))\n",
    "urllib.request.urlretrieve (url_aqhi_202008, os.path.join(rawdata_path, 'aqhi_202008.csv'))\n",
    "urllib.request.urlretrieve (url_aqhi_202009, os.path.join(rawdata_path, 'aqhi_202009.csv'))\n"
   ]
  },
  {
   "cell_type": "markdown",
   "metadata": {},
   "source": [
    "## 3. Read CSV Files into Python DataFrames\n",
    "Prior to reading into a df, examine each csv file and record number of lines to skip and what the header is."
   ]
  },
  {
   "cell_type": "markdown",
   "metadata": {},
   "source": [
    "### 2014 Annual Dataframe"
   ]
  },
  {
   "cell_type": "code",
   "execution_count": 9,
   "metadata": {},
   "outputs": [],
   "source": [
    "# Create list of 2014 monthly filenames\n",
    "filenames_2014 = ['aqhi_201401.csv',\n",
    "                  'aqhi_201402.csv',\n",
    "                  'aqhi_201403.csv',\n",
    "                  'aqhi_201404.csv',\n",
    "                  'aqhi_201405.csv',\n",
    "                  'aqhi_201406.csv',\n",
    "                  'aqhi_201407.csv',\n",
    "                  'aqhi_201408.csv',\n",
    "                  'aqhi_201409.csv',\n",
    "                  'aqhi_201410.csv',\n",
    "                  'aqhi_201411.csv',\n",
    "                  'aqhi_201412.csv']\n",
    "\n",
    "# Loop over filenames to create a list of 2014 monthly dataframes\n",
    "df_2014_list = []\n",
    "for filename in filenames_2014:\n",
    "    df_2014_list.append(pd.read_csv(os.path.join(rawdata_path, filename), header=6, sep=',', na_values=\"\"))\n",
    "\n",
    "# Concatenate list of 2014 monthly dataframes into an Annual 2014 Dataframe\n",
    "df_2014 = pd.concat(df_2014_list, ignore_index=True)"
   ]
  },
  {
   "cell_type": "code",
   "execution_count": 10,
   "metadata": {},
   "outputs": [
    {
     "data": {
      "text/plain": [
       "<matplotlib.axes._subplots.AxesSubplot at 0x109f52250>"
      ]
     },
     "execution_count": 10,
     "metadata": {},
     "output_type": "execute_result"
    },
    {
     "data": {
      "image/png": "[encoded data removed]",
      "text/plain": [
       "<Figure size 1296x864 with 1 Axes>"
      ]
     },
     "metadata": {
      "needs_background": "light"
     },
     "output_type": "display_data"
    }
   ],
   "source": [
    "null_vals = df_2014.isnull().sum()/len(df_2014)*100\n",
    "null_vals = pd.DataFrame(null_vals)\n",
    "null_vals.reset_index(inplace = True)\n",
    "null_vals.columns = ['Feature','Percent Missing']\n",
    "plt.figure(figsize=(18,12))\n",
    "plt.xticks(rotation=45)\n",
    "sns.barplot(x='Feature',y='Percent Missing',data=null_vals)"
   ]
  },
  {
   "cell_type": "markdown",
   "metadata": {},
   "source": [
    "### 2015 Annual Dataframe"
   ]
  },
  {
   "cell_type": "code",
   "execution_count": 11,
   "metadata": {},
   "outputs": [
    {
     "data": {
      "text/html": [
       "<div>\n",
       "<style scoped>\n",
       "    .dataframe tbody tr th:only-of-type {\n",
       "        vertical-align: middle;\n",
       "    }\n",
       "\n",
       "    .dataframe tbody tr th {\n",
       "        vertical-align: top;\n",
       "    }\n",
       "\n",
       "    .dataframe thead th {\n",
       "        text-align: right;\n",
       "    }\n",
       "</style>\n",
       "<table border=\"1\" class=\"dataframe\">\n",
       "  <thead>\n",
       "    <tr style=\"text-align: right;\">\n",
       "      <th></th>\n",
       "      <th>Date</th>\n",
       "      <th>Hour</th>\n",
       "      <th>Central/Western</th>\n",
       "      <th>Eastern</th>\n",
       "      <th>Kwun Tong</th>\n",
       "      <th>Sham Shui Po</th>\n",
       "      <th>Kwai Chung</th>\n",
       "      <th>Tsuen Wan</th>\n",
       "      <th>Yuen Long</th>\n",
       "      <th>Tuen Mun</th>\n",
       "      <th>Tung Chung</th>\n",
       "      <th>Tai Po</th>\n",
       "      <th>Sha Tin</th>\n",
       "      <th>Tap Mun</th>\n",
       "      <th>Causeway Bay</th>\n",
       "      <th>Central</th>\n",
       "      <th>Mong Kok</th>\n",
       "    </tr>\n",
       "  </thead>\n",
       "  <tbody>\n",
       "    <tr>\n",
       "      <th>0</th>\n",
       "      <td>2015-01-01</td>\n",
       "      <td>01</td>\n",
       "      <td>4</td>\n",
       "      <td>5</td>\n",
       "      <td>6</td>\n",
       "      <td>5</td>\n",
       "      <td>5</td>\n",
       "      <td>4</td>\n",
       "      <td>4</td>\n",
       "      <td>7</td>\n",
       "      <td>4</td>\n",
       "      <td>4</td>\n",
       "      <td>5</td>\n",
       "      <td>4</td>\n",
       "      <td>7</td>\n",
       "      <td>7</td>\n",
       "      <td>6</td>\n",
       "    </tr>\n",
       "    <tr>\n",
       "      <th>1</th>\n",
       "      <td>NaN</td>\n",
       "      <td>02</td>\n",
       "      <td>4</td>\n",
       "      <td>5</td>\n",
       "      <td>6</td>\n",
       "      <td>5</td>\n",
       "      <td>5</td>\n",
       "      <td>4</td>\n",
       "      <td>4</td>\n",
       "      <td>6</td>\n",
       "      <td>4</td>\n",
       "      <td>4</td>\n",
       "      <td>4</td>\n",
       "      <td>4</td>\n",
       "      <td>7</td>\n",
       "      <td>7</td>\n",
       "      <td>6</td>\n",
       "    </tr>\n",
       "    <tr>\n",
       "      <th>2</th>\n",
       "      <td>NaN</td>\n",
       "      <td>03</td>\n",
       "      <td>4</td>\n",
       "      <td>5</td>\n",
       "      <td>6</td>\n",
       "      <td>5</td>\n",
       "      <td>5</td>\n",
       "      <td>4</td>\n",
       "      <td>4</td>\n",
       "      <td>5</td>\n",
       "      <td>4</td>\n",
       "      <td>4</td>\n",
       "      <td>4</td>\n",
       "      <td>4</td>\n",
       "      <td>6</td>\n",
       "      <td>7</td>\n",
       "      <td>5</td>\n",
       "    </tr>\n",
       "    <tr>\n",
       "      <th>3</th>\n",
       "      <td>NaN</td>\n",
       "      <td>04</td>\n",
       "      <td>4</td>\n",
       "      <td>5</td>\n",
       "      <td>5</td>\n",
       "      <td>5</td>\n",
       "      <td>5</td>\n",
       "      <td>4</td>\n",
       "      <td>4</td>\n",
       "      <td>4</td>\n",
       "      <td>4</td>\n",
       "      <td>3</td>\n",
       "      <td>4</td>\n",
       "      <td>4</td>\n",
       "      <td>6</td>\n",
       "      <td>6*</td>\n",
       "      <td>5</td>\n",
       "    </tr>\n",
       "    <tr>\n",
       "      <th>4</th>\n",
       "      <td>NaN</td>\n",
       "      <td>05</td>\n",
       "      <td>3</td>\n",
       "      <td>4</td>\n",
       "      <td>5</td>\n",
       "      <td>4</td>\n",
       "      <td>4</td>\n",
       "      <td>4</td>\n",
       "      <td>3</td>\n",
       "      <td>4</td>\n",
       "      <td>4</td>\n",
       "      <td>3</td>\n",
       "      <td>4</td>\n",
       "      <td>3</td>\n",
       "      <td>5</td>\n",
       "      <td>5*</td>\n",
       "      <td>4</td>\n",
       "    </tr>\n",
       "  </tbody>\n",
       "</table>\n",
       "</div>"
      ],
      "text/plain": [
       "         Date Hour Central/Western Eastern Kwun Tong Sham Shui Po Kwai Chung  \\\n",
       "0  2015-01-01   01               4       5         6            5          5   \n",
       "1         NaN   02               4       5         6            5          5   \n",
       "2         NaN   03               4       5         6            5          5   \n",
       "3         NaN   04               4       5         5            5          5   \n",
       "4         NaN   05               3       4         5            4          4   \n",
       "\n",
       "  Tsuen Wan Yuen Long Tuen Mun Tung Chung Tai Po Sha Tin Tap Mun Causeway Bay  \\\n",
       "0         4         4        7          4      4       5       4            7   \n",
       "1         4         4        6          4      4       4       4            7   \n",
       "2         4         4        5          4      4       4       4            6   \n",
       "3         4         4        4          4      3       4       4            6   \n",
       "4         4         3        4          4      3       4       3            5   \n",
       "\n",
       "  Central Mong Kok  \n",
       "0       7        6  \n",
       "1       7        6  \n",
       "2       7        5  \n",
       "3      6*        5  \n",
       "4      5*        4  "
      ]
     },
     "execution_count": 11,
     "metadata": {},
     "output_type": "execute_result"
    }
   ],
   "source": [
    "# Create list of 2015 monthly filenames\n",
    "filenames_2015 = ['aqhi_201501.csv',\n",
    "                  'aqhi_201502.csv',\n",
    "                  'aqhi_201503.csv',\n",
    "                  'aqhi_201504.csv',\n",
    "                  'aqhi_201505.csv',\n",
    "                  'aqhi_201506.csv',\n",
    "                  'aqhi_201507.csv',\n",
    "                  'aqhi_201508.csv',\n",
    "                  'aqhi_201509.csv',\n",
    "                  'aqhi_201510.csv',\n",
    "                  'aqhi_201511.csv',\n",
    "                  'aqhi_201512.csv']\n",
    "\n",
    "# Loop over filenames to create a list of 2015 monthly dataframes\n",
    "df_2015_list = []\n",
    "for filename in filenames_2015:\n",
    "    df_2015_list.append(pd.read_csv(os.path.join(rawdata_path, filename), header=6, sep=',', na_values=\"\"))\n",
    "\n",
    "# Concatenate list of 2015 monthly dataframes into an Annual 2015 Dataframe\n",
    "df_2015 = pd.concat(df_2015_list, ignore_index=True)\n",
    "df_2015.head()"
   ]
  },
  {
   "cell_type": "markdown",
   "metadata": {},
   "source": [
    "### 2016 Annual Dataframe"
   ]
  },
  {
   "cell_type": "code",
   "execution_count": 12,
   "metadata": {},
   "outputs": [
    {
     "data": {
      "text/html": [
       "<div>\n",
       "<style scoped>\n",
       "    .dataframe tbody tr th:only-of-type {\n",
       "        vertical-align: middle;\n",
       "    }\n",
       "\n",
       "    .dataframe tbody tr th {\n",
       "        vertical-align: top;\n",
       "    }\n",
       "\n",
       "    .dataframe thead th {\n",
       "        text-align: right;\n",
       "    }\n",
       "</style>\n",
       "<table border=\"1\" class=\"dataframe\">\n",
       "  <thead>\n",
       "    <tr style=\"text-align: right;\">\n",
       "      <th></th>\n",
       "      <th>Date</th>\n",
       "      <th>Hour</th>\n",
       "      <th>Central/Western</th>\n",
       "      <th>Eastern</th>\n",
       "      <th>Kwun Tong</th>\n",
       "      <th>Sham Shui Po</th>\n",
       "      <th>Kwai Chung</th>\n",
       "      <th>Tsuen Wan</th>\n",
       "      <th>Yuen Long</th>\n",
       "      <th>Tuen Mun</th>\n",
       "      <th>Tung Chung</th>\n",
       "      <th>Tai Po</th>\n",
       "      <th>Sha Tin</th>\n",
       "      <th>Tap Mun</th>\n",
       "      <th>Causeway Bay</th>\n",
       "      <th>Central</th>\n",
       "      <th>Mong Kok</th>\n",
       "      <th>Tseung Kwan O</th>\n",
       "    </tr>\n",
       "  </thead>\n",
       "  <tbody>\n",
       "    <tr>\n",
       "      <th>0</th>\n",
       "      <td>2016-01-01</td>\n",
       "      <td>01</td>\n",
       "      <td>5</td>\n",
       "      <td>5</td>\n",
       "      <td>5</td>\n",
       "      <td>5</td>\n",
       "      <td>5</td>\n",
       "      <td>5</td>\n",
       "      <td>4</td>\n",
       "      <td>4</td>\n",
       "      <td>3</td>\n",
       "      <td>3</td>\n",
       "      <td>5</td>\n",
       "      <td>*</td>\n",
       "      <td>5</td>\n",
       "      <td>5</td>\n",
       "      <td>5</td>\n",
       "      <td>NaN</td>\n",
       "    </tr>\n",
       "    <tr>\n",
       "      <th>1</th>\n",
       "      <td>NaN</td>\n",
       "      <td>02</td>\n",
       "      <td>5</td>\n",
       "      <td>5</td>\n",
       "      <td>5</td>\n",
       "      <td>5</td>\n",
       "      <td>5</td>\n",
       "      <td>5</td>\n",
       "      <td>4</td>\n",
       "      <td>4</td>\n",
       "      <td>4</td>\n",
       "      <td>4</td>\n",
       "      <td>5</td>\n",
       "      <td>*</td>\n",
       "      <td>5</td>\n",
       "      <td>5</td>\n",
       "      <td>5</td>\n",
       "      <td>NaN</td>\n",
       "    </tr>\n",
       "    <tr>\n",
       "      <th>2</th>\n",
       "      <td>NaN</td>\n",
       "      <td>03</td>\n",
       "      <td>5</td>\n",
       "      <td>5</td>\n",
       "      <td>5</td>\n",
       "      <td>5</td>\n",
       "      <td>5</td>\n",
       "      <td>5</td>\n",
       "      <td>3</td>\n",
       "      <td>4</td>\n",
       "      <td>4</td>\n",
       "      <td>5</td>\n",
       "      <td>5</td>\n",
       "      <td>*</td>\n",
       "      <td>5</td>\n",
       "      <td>5</td>\n",
       "      <td>5</td>\n",
       "      <td>NaN</td>\n",
       "    </tr>\n",
       "    <tr>\n",
       "      <th>3</th>\n",
       "      <td>NaN</td>\n",
       "      <td>04</td>\n",
       "      <td>5</td>\n",
       "      <td>5</td>\n",
       "      <td>5</td>\n",
       "      <td>5</td>\n",
       "      <td>5</td>\n",
       "      <td>5</td>\n",
       "      <td>4</td>\n",
       "      <td>4</td>\n",
       "      <td>4</td>\n",
       "      <td>5</td>\n",
       "      <td>5</td>\n",
       "      <td>*</td>\n",
       "      <td>5</td>\n",
       "      <td>5</td>\n",
       "      <td>5</td>\n",
       "      <td>NaN</td>\n",
       "    </tr>\n",
       "    <tr>\n",
       "      <th>4</th>\n",
       "      <td>NaN</td>\n",
       "      <td>05</td>\n",
       "      <td>5</td>\n",
       "      <td>4</td>\n",
       "      <td>5</td>\n",
       "      <td>5</td>\n",
       "      <td>5</td>\n",
       "      <td>5</td>\n",
       "      <td>4</td>\n",
       "      <td>4</td>\n",
       "      <td>4</td>\n",
       "      <td>5</td>\n",
       "      <td>5</td>\n",
       "      <td>*</td>\n",
       "      <td>5</td>\n",
       "      <td>4</td>\n",
       "      <td>5</td>\n",
       "      <td>NaN</td>\n",
       "    </tr>\n",
       "  </tbody>\n",
       "</table>\n",
       "</div>"
      ],
      "text/plain": [
       "         Date Hour Central/Western Eastern Kwun Tong Sham Shui Po Kwai Chung  \\\n",
       "0  2016-01-01   01               5       5         5            5          5   \n",
       "1         NaN   02               5       5         5            5          5   \n",
       "2         NaN   03               5       5         5            5          5   \n",
       "3         NaN   04               5       5         5            5          5   \n",
       "4         NaN   05               5       4         5            5          5   \n",
       "\n",
       "  Tsuen Wan Yuen Long Tuen Mun Tung Chung Tai Po Sha Tin Tap Mun Causeway Bay  \\\n",
       "0         5         4        4          3      3       5       *            5   \n",
       "1         5         4        4          4      4       5       *            5   \n",
       "2         5         3        4          4      5       5       *            5   \n",
       "3         5         4        4          4      5       5       *            5   \n",
       "4         5         4        4          4      5       5       *            5   \n",
       "\n",
       "  Central Mong Kok Tseung Kwan O  \n",
       "0       5        5           NaN  \n",
       "1       5        5           NaN  \n",
       "2       5        5           NaN  \n",
       "3       5        5           NaN  \n",
       "4       4        5           NaN  "
      ]
     },
     "execution_count": 12,
     "metadata": {},
     "output_type": "execute_result"
    }
   ],
   "source": [
    "# Jan 2016 does not contain Tseung Kwan O\n",
    "\n",
    "# Create list of 2016 monthly filenames\n",
    "filenames_2016 = ['aqhi_201601.csv',\n",
    "                  'aqhi_201602.csv',\n",
    "                  'aqhi_201603.csv',\n",
    "                  'aqhi_201604.csv',\n",
    "                  'aqhi_201605.csv',\n",
    "                  'aqhi_201606.csv',\n",
    "                  'aqhi_201607.csv',\n",
    "                  'aqhi_201608.csv',\n",
    "                  'aqhi_201609.csv',\n",
    "                  'aqhi_201610.csv',\n",
    "                  'aqhi_201611.csv',\n",
    "                  'aqhi_201612.csv']\n",
    "\n",
    "# Loop over filenames to create a list of 2016 monthly dataframes\n",
    "df_2016_list = []\n",
    "for filename in filenames_2016:\n",
    "    df_2016_list.append(pd.read_csv(os.path.join(rawdata_path, filename), header=6, sep=',', na_values=\"\"))\n",
    "\n",
    "# Concatenate list of 2016 monthly dataframes into an Annual 2016 Dataframe\n",
    "df_2016 = pd.concat(df_2016_list, ignore_index=True)\n",
    "df_2016.head()"
   ]
  },
  {
   "cell_type": "markdown",
   "metadata": {},
   "source": [
    "### 2017 Annual Dataframe"
   ]
  },
  {
   "cell_type": "code",
   "execution_count": 13,
   "metadata": {},
   "outputs": [],
   "source": [
    "# Create list of 2017 monthly filenames\n",
    "filenames_2017 = ['aqhi_201701.csv',\n",
    "                  'aqhi_201702.csv',\n",
    "                  'aqhi_201703.csv',\n",
    "                  'aqhi_201704.csv',\n",
    "                  'aqhi_201705.csv',\n",
    "                  'aqhi_201706.csv',\n",
    "                  'aqhi_201707.csv',\n",
    "                  'aqhi_201708.csv',\n",
    "                  'aqhi_201709.csv',\n",
    "                  'aqhi_201710.csv',\n",
    "                  'aqhi_201711.csv',\n",
    "                  'aqhi_201712.csv']\n",
    "\n",
    "# Loop over filenames to create a list of 2017 monthly dataframes\n",
    "df_2017_list = []\n",
    "for filename in filenames_2017:\n",
    "    df_2017_list.append(pd.read_csv(os.path.join(rawdata_path, filename), header=6, sep=',', na_values=\"\"))\n",
    "\n",
    "# Concatenate list of 2017 monthly dataframes into an Annual 2017 Dataframe\n",
    "df_2017 = pd.concat(df_2017_list, ignore_index=True)"
   ]
  },
  {
   "cell_type": "markdown",
   "metadata": {},
   "source": [
    "### 2018 Annual Dataframe"
   ]
  },
  {
   "cell_type": "code",
   "execution_count": 14,
   "metadata": {},
   "outputs": [],
   "source": [
    "# Create list of 2018 monthly filenames\n",
    "filenames_2018 = ['aqhi_201801.csv',\n",
    "                  'aqhi_201802.csv',\n",
    "                  'aqhi_201803.csv',\n",
    "                  'aqhi_201804.csv',\n",
    "                  'aqhi_201805.csv',\n",
    "                  'aqhi_201806.csv',\n",
    "                  'aqhi_201807.csv',\n",
    "                  'aqhi_201808.csv',\n",
    "                  'aqhi_201809.csv',\n",
    "                  'aqhi_201810.csv',\n",
    "                  'aqhi_201811.csv',\n",
    "                  'aqhi_201812.csv']\n",
    "\n",
    "# Loop over filenames to create a list of 2018 monthly dataframes\n",
    "df_2018_list = []\n",
    "for filename in filenames_2018:\n",
    "    df_2018_list.append(pd.read_csv(os.path.join(rawdata_path, filename), header=6, sep=',', na_values=\"\"))\n",
    "\n",
    "# Concatenate list of 2018 monthly dataframes into an Annual 2018 Dataframe\n",
    "df_2018 = pd.concat(df_2018_list, ignore_index=True)"
   ]
  },
  {
   "cell_type": "markdown",
   "metadata": {},
   "source": [
    "### 2019 Annual Dataframe"
   ]
  },
  {
   "cell_type": "code",
   "execution_count": 15,
   "metadata": {},
   "outputs": [],
   "source": [
    "# Create list of 2019 monthly filenames\n",
    "filenames_2019 = ['aqhi_201901.csv',\n",
    "                  'aqhi_201902.csv',\n",
    "                  'aqhi_201903.csv',\n",
    "                  'aqhi_201904.csv',\n",
    "                  'aqhi_201905.csv',\n",
    "                  'aqhi_201906.csv',\n",
    "                  'aqhi_201907.csv',\n",
    "                  'aqhi_201908.csv',\n",
    "                  'aqhi_201909.csv',\n",
    "                  'aqhi_201910.csv',\n",
    "                  'aqhi_201911.csv',\n",
    "                  'aqhi_201912.csv']\n",
    "\n",
    "# Loop over filenames to create a list of 2019 monthly dataframes\n",
    "df_2019_list = []\n",
    "for filename in filenames_2019:\n",
    "    df_2019_list.append(pd.read_csv(os.path.join(rawdata_path, filename), header=6, sep=',', na_values=\"\"))\n",
    "\n",
    "# Concatenate list of 2019 monthly dataframes into an Annual 2019 Dataframe\n",
    "df_2019 = pd.concat(df_2019_list, ignore_index=True)"
   ]
  },
  {
   "cell_type": "markdown",
   "metadata": {},
   "source": [
    "### 2020 Annual Dataframe"
   ]
  },
  {
   "cell_type": "code",
   "execution_count": 16,
   "metadata": {},
   "outputs": [],
   "source": [
    "# Create list of 2020 monthly filenames\n",
    "filenames_2020 = ['aqhi_202001.csv',\n",
    "                  'aqhi_202002.csv',\n",
    "                  'aqhi_202003.csv',\n",
    "                  'aqhi_202004.csv',\n",
    "                  'aqhi_202005.csv',\n",
    "                  'aqhi_202006.csv']\n",
    "\n",
    "# Loop over filenames to create a list of 2020 monthly dataframes\n",
    "df_2020_list = []\n",
    "for filename in filenames_2020:\n",
    "    df_2020_list.append(pd.read_csv(os.path.join(rawdata_path, filename), header=6, sep=',', na_values=\"\"))\n",
    "\n",
    "# Concatenate list of 2020 monthly dataframes into an Annual 2020 Dataframe\n",
    "df_2020 = pd.concat(df_2020_list, ignore_index=True)\n",
    "\n",
    "# Drop last two columns ('Southern', 'North') due to not having any information\n",
    "df_2020.drop(['Southern', 'North'], axis=1, inplace=True)"
   ]
  },
  {
   "cell_type": "markdown",
   "metadata": {},
   "source": [
    "### Clean data for each year by filling in date & removing asterisk (*)"
   ]
  },
  {
   "cell_type": "code",
   "execution_count": 17,
   "metadata": {},
   "outputs": [],
   "source": [
    "# Create list of each years' dataframe\n",
    "annual_list = [df_2014, df_2015, df_2016, df_2017, df_2018, df_2019, df_2020]\n",
    "\n",
    "# Loop over list of years and apply cleaning\n",
    "for year in annual_list:\n",
    "    # Convert Date object to datetime object\n",
    "    year['Date'] = pd.to_datetime(year['Date'])\n",
    "    year.iloc[:,0].ffill(axis=0, inplace=True)\n",
    "    \n",
    "    # Remove asterisk (*) holding place of Null values\n",
    "    # Remove asterisk (*) attached to numbers\n",
    "    # Replace 10+ with 11 to signify AQHI above the 1-10 range\n",
    "    year.replace(to_replace=[r'^(10)\\+\\*', r'^(10)\\+$', r'^\\*$', r'\\*$'], value=['11', '11', np.nan, ''], regex=True, inplace=True)\n",
    "    \n",
    "    # Convert AQHI values to_numeric\n",
    "    for col in year.columns[2:]:\n",
    "        year[col] = pd.to_numeric(year[col], errors='coerce')"
   ]
  },
  {
   "cell_type": "markdown",
   "metadata": {},
   "source": [
    "## 4. Compile dataframe of all years"
   ]
  },
  {
   "cell_type": "code",
   "execution_count": 18,
   "metadata": {},
   "outputs": [
    {
     "data": {
      "text/html": [
       "<div>\n",
       "<style scoped>\n",
       "    .dataframe tbody tr th:only-of-type {\n",
       "        vertical-align: middle;\n",
       "    }\n",
       "\n",
       "    .dataframe tbody tr th {\n",
       "        vertical-align: top;\n",
       "    }\n",
       "\n",
       "    .dataframe thead th {\n",
       "        text-align: right;\n",
       "    }\n",
       "</style>\n",
       "<table border=\"1\" class=\"dataframe\">\n",
       "  <thead>\n",
       "    <tr style=\"text-align: right;\">\n",
       "      <th></th>\n",
       "      <th>Date</th>\n",
       "      <th>Hour</th>\n",
       "      <th>Central/Western</th>\n",
       "      <th>Eastern</th>\n",
       "      <th>Kwun Tong</th>\n",
       "      <th>Sham Shui Po</th>\n",
       "      <th>Kwai Chung</th>\n",
       "      <th>Tsuen Wan</th>\n",
       "      <th>Yuen Long</th>\n",
       "      <th>Tuen Mun</th>\n",
       "      <th>Tung Chung</th>\n",
       "      <th>Tai Po</th>\n",
       "      <th>Sha Tin</th>\n",
       "      <th>Tap Mun</th>\n",
       "      <th>Causeway Bay</th>\n",
       "      <th>Central</th>\n",
       "      <th>Mong Kok</th>\n",
       "      <th>Tseung Kwan O</th>\n",
       "    </tr>\n",
       "  </thead>\n",
       "  <tbody>\n",
       "    <tr>\n",
       "      <th>0</th>\n",
       "      <td>2014-01-01</td>\n",
       "      <td>01</td>\n",
       "      <td>6.0</td>\n",
       "      <td>7.0</td>\n",
       "      <td>9.0</td>\n",
       "      <td>8.0</td>\n",
       "      <td>6.0</td>\n",
       "      <td>6.0</td>\n",
       "      <td>6.0</td>\n",
       "      <td>8.0</td>\n",
       "      <td>6.0</td>\n",
       "      <td>6.0</td>\n",
       "      <td>6.0</td>\n",
       "      <td>4.0</td>\n",
       "      <td>10.0</td>\n",
       "      <td>7.0</td>\n",
       "      <td>9.0</td>\n",
       "      <td>NaN</td>\n",
       "    </tr>\n",
       "    <tr>\n",
       "      <th>1</th>\n",
       "      <td>2014-01-01</td>\n",
       "      <td>02</td>\n",
       "      <td>6.0</td>\n",
       "      <td>7.0</td>\n",
       "      <td>9.0</td>\n",
       "      <td>7.0</td>\n",
       "      <td>6.0</td>\n",
       "      <td>5.0</td>\n",
       "      <td>6.0</td>\n",
       "      <td>8.0</td>\n",
       "      <td>5.0</td>\n",
       "      <td>5.0</td>\n",
       "      <td>6.0</td>\n",
       "      <td>4.0</td>\n",
       "      <td>10.0</td>\n",
       "      <td>7.0</td>\n",
       "      <td>9.0</td>\n",
       "      <td>NaN</td>\n",
       "    </tr>\n",
       "    <tr>\n",
       "      <th>2</th>\n",
       "      <td>2014-01-01</td>\n",
       "      <td>03</td>\n",
       "      <td>6.0</td>\n",
       "      <td>6.0</td>\n",
       "      <td>8.0</td>\n",
       "      <td>7.0</td>\n",
       "      <td>6.0</td>\n",
       "      <td>5.0</td>\n",
       "      <td>6.0</td>\n",
       "      <td>7.0</td>\n",
       "      <td>5.0</td>\n",
       "      <td>5.0</td>\n",
       "      <td>6.0</td>\n",
       "      <td>5.0</td>\n",
       "      <td>9.0</td>\n",
       "      <td>6.0</td>\n",
       "      <td>8.0</td>\n",
       "      <td>NaN</td>\n",
       "    </tr>\n",
       "    <tr>\n",
       "      <th>3</th>\n",
       "      <td>2014-01-01</td>\n",
       "      <td>04</td>\n",
       "      <td>6.0</td>\n",
       "      <td>6.0</td>\n",
       "      <td>8.0</td>\n",
       "      <td>7.0</td>\n",
       "      <td>6.0</td>\n",
       "      <td>5.0</td>\n",
       "      <td>6.0</td>\n",
       "      <td>7.0</td>\n",
       "      <td>4.0</td>\n",
       "      <td>5.0</td>\n",
       "      <td>6.0</td>\n",
       "      <td>4.0</td>\n",
       "      <td>9.0</td>\n",
       "      <td>5.0</td>\n",
       "      <td>8.0</td>\n",
       "      <td>NaN</td>\n",
       "    </tr>\n",
       "    <tr>\n",
       "      <th>4</th>\n",
       "      <td>2014-01-01</td>\n",
       "      <td>05</td>\n",
       "      <td>5.0</td>\n",
       "      <td>5.0</td>\n",
       "      <td>7.0</td>\n",
       "      <td>6.0</td>\n",
       "      <td>5.0</td>\n",
       "      <td>5.0</td>\n",
       "      <td>NaN</td>\n",
       "      <td>7.0</td>\n",
       "      <td>5.0</td>\n",
       "      <td>5.0</td>\n",
       "      <td>5.0</td>\n",
       "      <td>4.0</td>\n",
       "      <td>8.0</td>\n",
       "      <td>5.0</td>\n",
       "      <td>7.0</td>\n",
       "      <td>NaN</td>\n",
       "    </tr>\n",
       "  </tbody>\n",
       "</table>\n",
       "</div>"
      ],
      "text/plain": [
       "        Date Hour  Central/Western  Eastern  Kwun Tong  Sham Shui Po  \\\n",
       "0 2014-01-01   01              6.0      7.0        9.0           8.0   \n",
       "1 2014-01-01   02              6.0      7.0        9.0           7.0   \n",
       "2 2014-01-01   03              6.0      6.0        8.0           7.0   \n",
       "3 2014-01-01   04              6.0      6.0        8.0           7.0   \n",
       "4 2014-01-01   05              5.0      5.0        7.0           6.0   \n",
       "\n",
       "   Kwai Chung  Tsuen Wan  Yuen Long  Tuen Mun  Tung Chung  Tai Po  Sha Tin  \\\n",
       "0         6.0        6.0        6.0       8.0         6.0     6.0      6.0   \n",
       "1         6.0        5.0        6.0       8.0         5.0     5.0      6.0   \n",
       "2         6.0        5.0        6.0       7.0         5.0     5.0      6.0   \n",
       "3         6.0        5.0        6.0       7.0         4.0     5.0      6.0   \n",
       "4         5.0        5.0        NaN       7.0         5.0     5.0      5.0   \n",
       "\n",
       "   Tap Mun  Causeway Bay  Central  Mong Kok  Tseung Kwan O  \n",
       "0      4.0          10.0      7.0       9.0            NaN  \n",
       "1      4.0          10.0      7.0       9.0            NaN  \n",
       "2      5.0           9.0      6.0       8.0            NaN  \n",
       "3      4.0           9.0      5.0       8.0            NaN  \n",
       "4      4.0           8.0      5.0       7.0            NaN  "
      ]
     },
     "execution_count": 18,
     "metadata": {},
     "output_type": "execute_result"
    }
   ],
   "source": [
    "df_complete = pd.concat(annual_list, ignore_index=True)\n",
    "df_complete.head()"
   ]
  },
  {
   "cell_type": "code",
   "execution_count": 19,
   "metadata": {},
   "outputs": [
    {
     "name": "stdout",
     "output_type": "stream",
     "text": [
      "<class 'pandas.core.frame.DataFrame'>\n",
      "RangeIndex: 59325 entries, 0 to 59324\n",
      "Data columns (total 18 columns):\n",
      " #   Column           Non-Null Count  Dtype         \n",
      "---  ------           --------------  -----         \n",
      " 0   Date             59325 non-null  datetime64[ns]\n",
      " 1   Hour             59325 non-null  object        \n",
      " 2   Central/Western  59306 non-null  float64       \n",
      " 3   Eastern          59305 non-null  float64       \n",
      " 4   Kwun Tong        59284 non-null  float64       \n",
      " 5   Sham Shui Po     59287 non-null  float64       \n",
      " 6   Kwai Chung       59294 non-null  float64       \n",
      " 7   Tsuen Wan        59285 non-null  float64       \n",
      " 8   Yuen Long        59260 non-null  float64       \n",
      " 9   Tuen Mun         59271 non-null  float64       \n",
      " 10  Tung Chung       59276 non-null  float64       \n",
      " 11  Tai Po           59270 non-null  float64       \n",
      " 12  Sha Tin          59280 non-null  float64       \n",
      " 13  Tap Mun          55763 non-null  float64       \n",
      " 14  Causeway Bay     59274 non-null  float64       \n",
      " 15  Central          59300 non-null  float64       \n",
      " 16  Mong Kok         59288 non-null  float64       \n",
      " 17  Tseung Kwan O    39186 non-null  float64       \n",
      "dtypes: datetime64[ns](1), float64(16), object(1)\n",
      "memory usage: 8.1+ MB\n"
     ]
    }
   ],
   "source": [
    "df_complete.info()"
   ]
  },
  {
   "cell_type": "markdown",
   "metadata": {},
   "source": [
    "## 5. Examine Percent Null"
   ]
  },
  {
   "cell_type": "code",
   "execution_count": 20,
   "metadata": {
    "scrolled": false
   },
   "outputs": [
    {
     "data": {
      "text/plain": [
       "<matplotlib.axes._subplots.AxesSubplot at 0x109f52430>"
      ]
     },
     "execution_count": 20,
     "metadata": {},
     "output_type": "execute_result"
    },
    {
     "data": {
      "image/png": "[encoded data removed]",
      "text/plain": [
       "<Figure size 1296x864 with 1 Axes>"
      ]
     },
     "metadata": {
      "needs_background": "light"
     },
     "output_type": "display_data"
    }
   ],
   "source": [
    "null_vals = df_complete.isnull().sum()/len(df_complete)*100\n",
    "null_vals = pd.DataFrame(null_vals)\n",
    "null_vals.reset_index(inplace = True)\n",
    "null_vals.columns = ['Feature','Percent Missing']\n",
    "plt.figure(figsize=(18,12))\n",
    "plt.xticks(rotation=45)\n",
    "sns.barplot(x='Feature',y='Percent Missing',data=null_vals)"
   ]
  },
  {
   "cell_type": "code",
   "execution_count": 21,
   "metadata": {},
   "outputs": [
    {
     "data": {
      "text/plain": [
       "Date                   0\n",
       "Hour                   0\n",
       "Central/Western       19\n",
       "Eastern               20\n",
       "Kwun Tong             41\n",
       "Sham Shui Po          38\n",
       "Kwai Chung            31\n",
       "Tsuen Wan             40\n",
       "Yuen Long             65\n",
       "Tuen Mun              54\n",
       "Tung Chung            49\n",
       "Tai Po                55\n",
       "Sha Tin               45\n",
       "Tap Mun             3562\n",
       "Causeway Bay          51\n",
       "Central               25\n",
       "Mong Kok              37\n",
       "Tseung Kwan O      20139\n",
       "dtype: int64"
      ]
     },
     "execution_count": 21,
     "metadata": {},
     "output_type": "execute_result"
    }
   ],
   "source": [
    "# Number missing in each column\n",
    "df_complete.isnull().sum()"
   ]
  },
  {
   "cell_type": "markdown",
   "metadata": {},
   "source": [
    "### Drop Tap Mun and Tseung Kwan O columns"
   ]
  },
  {
   "cell_type": "code",
   "execution_count": 22,
   "metadata": {},
   "outputs": [
    {
     "data": {
      "text/html": [
       "<div>\n",
       "<style scoped>\n",
       "    .dataframe tbody tr th:only-of-type {\n",
       "        vertical-align: middle;\n",
       "    }\n",
       "\n",
       "    .dataframe tbody tr th {\n",
       "        vertical-align: top;\n",
       "    }\n",
       "\n",
       "    .dataframe thead th {\n",
       "        text-align: right;\n",
       "    }\n",
       "</style>\n",
       "<table border=\"1\" class=\"dataframe\">\n",
       "  <thead>\n",
       "    <tr style=\"text-align: right;\">\n",
       "      <th></th>\n",
       "      <th>Date</th>\n",
       "      <th>Hour</th>\n",
       "      <th>Central/Western</th>\n",
       "      <th>Eastern</th>\n",
       "      <th>Kwun Tong</th>\n",
       "      <th>Sham Shui Po</th>\n",
       "      <th>Kwai Chung</th>\n",
       "      <th>Tsuen Wan</th>\n",
       "      <th>Yuen Long</th>\n",
       "      <th>Tuen Mun</th>\n",
       "      <th>Tung Chung</th>\n",
       "      <th>Tai Po</th>\n",
       "      <th>Sha Tin</th>\n",
       "      <th>Causeway Bay</th>\n",
       "      <th>Central</th>\n",
       "      <th>Mong Kok</th>\n",
       "    </tr>\n",
       "  </thead>\n",
       "  <tbody>\n",
       "    <tr>\n",
       "      <th>0</th>\n",
       "      <td>2014-01-01</td>\n",
       "      <td>01</td>\n",
       "      <td>6.0</td>\n",
       "      <td>7.0</td>\n",
       "      <td>9.0</td>\n",
       "      <td>8.0</td>\n",
       "      <td>6.0</td>\n",
       "      <td>6.0</td>\n",
       "      <td>6.0</td>\n",
       "      <td>8.0</td>\n",
       "      <td>6.0</td>\n",
       "      <td>6.0</td>\n",
       "      <td>6.0</td>\n",
       "      <td>10.0</td>\n",
       "      <td>7.0</td>\n",
       "      <td>9.0</td>\n",
       "    </tr>\n",
       "    <tr>\n",
       "      <th>1</th>\n",
       "      <td>2014-01-01</td>\n",
       "      <td>02</td>\n",
       "      <td>6.0</td>\n",
       "      <td>7.0</td>\n",
       "      <td>9.0</td>\n",
       "      <td>7.0</td>\n",
       "      <td>6.0</td>\n",
       "      <td>5.0</td>\n",
       "      <td>6.0</td>\n",
       "      <td>8.0</td>\n",
       "      <td>5.0</td>\n",
       "      <td>5.0</td>\n",
       "      <td>6.0</td>\n",
       "      <td>10.0</td>\n",
       "      <td>7.0</td>\n",
       "      <td>9.0</td>\n",
       "    </tr>\n",
       "    <tr>\n",
       "      <th>2</th>\n",
       "      <td>2014-01-01</td>\n",
       "      <td>03</td>\n",
       "      <td>6.0</td>\n",
       "      <td>6.0</td>\n",
       "      <td>8.0</td>\n",
       "      <td>7.0</td>\n",
       "      <td>6.0</td>\n",
       "      <td>5.0</td>\n",
       "      <td>6.0</td>\n",
       "      <td>7.0</td>\n",
       "      <td>5.0</td>\n",
       "      <td>5.0</td>\n",
       "      <td>6.0</td>\n",
       "      <td>9.0</td>\n",
       "      <td>6.0</td>\n",
       "      <td>8.0</td>\n",
       "    </tr>\n",
       "    <tr>\n",
       "      <th>3</th>\n",
       "      <td>2014-01-01</td>\n",
       "      <td>04</td>\n",
       "      <td>6.0</td>\n",
       "      <td>6.0</td>\n",
       "      <td>8.0</td>\n",
       "      <td>7.0</td>\n",
       "      <td>6.0</td>\n",
       "      <td>5.0</td>\n",
       "      <td>6.0</td>\n",
       "      <td>7.0</td>\n",
       "      <td>4.0</td>\n",
       "      <td>5.0</td>\n",
       "      <td>6.0</td>\n",
       "      <td>9.0</td>\n",
       "      <td>5.0</td>\n",
       "      <td>8.0</td>\n",
       "    </tr>\n",
       "    <tr>\n",
       "      <th>4</th>\n",
       "      <td>2014-01-01</td>\n",
       "      <td>05</td>\n",
       "      <td>5.0</td>\n",
       "      <td>5.0</td>\n",
       "      <td>7.0</td>\n",
       "      <td>6.0</td>\n",
       "      <td>5.0</td>\n",
       "      <td>5.0</td>\n",
       "      <td>NaN</td>\n",
       "      <td>7.0</td>\n",
       "      <td>5.0</td>\n",
       "      <td>5.0</td>\n",
       "      <td>5.0</td>\n",
       "      <td>8.0</td>\n",
       "      <td>5.0</td>\n",
       "      <td>7.0</td>\n",
       "    </tr>\n",
       "  </tbody>\n",
       "</table>\n",
       "</div>"
      ],
      "text/plain": [
       "        Date Hour  Central/Western  Eastern  Kwun Tong  Sham Shui Po  \\\n",
       "0 2014-01-01   01              6.0      7.0        9.0           8.0   \n",
       "1 2014-01-01   02              6.0      7.0        9.0           7.0   \n",
       "2 2014-01-01   03              6.0      6.0        8.0           7.0   \n",
       "3 2014-01-01   04              6.0      6.0        8.0           7.0   \n",
       "4 2014-01-01   05              5.0      5.0        7.0           6.0   \n",
       "\n",
       "   Kwai Chung  Tsuen Wan  Yuen Long  Tuen Mun  Tung Chung  Tai Po  Sha Tin  \\\n",
       "0         6.0        6.0        6.0       8.0         6.0     6.0      6.0   \n",
       "1         6.0        5.0        6.0       8.0         5.0     5.0      6.0   \n",
       "2         6.0        5.0        6.0       7.0         5.0     5.0      6.0   \n",
       "3         6.0        5.0        6.0       7.0         4.0     5.0      6.0   \n",
       "4         5.0        5.0        NaN       7.0         5.0     5.0      5.0   \n",
       "\n",
       "   Causeway Bay  Central  Mong Kok  \n",
       "0          10.0      7.0       9.0  \n",
       "1          10.0      7.0       9.0  \n",
       "2           9.0      6.0       8.0  \n",
       "3           9.0      5.0       8.0  \n",
       "4           8.0      5.0       7.0  "
      ]
     },
     "execution_count": 22,
     "metadata": {},
     "output_type": "execute_result"
    }
   ],
   "source": [
    "# Remove Tap Mun and Tseung Kwan O columns\n",
    "# Tap Mun does not have a nearest station in the data\n",
    "# Tseung Kwan O ~34% of data missing\n",
    "to_drop = ['Tap Mun', 'Tseung Kwan O']\n",
    "df_subset = df_complete.drop(to_drop, axis=1)\n",
    "df_subset.head()"
   ]
  },
  {
   "cell_type": "code",
   "execution_count": 23,
   "metadata": {},
   "outputs": [
    {
     "data": {
      "text/plain": [
       "<matplotlib.axes._subplots.AxesSubplot at 0x109f52460>"
      ]
     },
     "execution_count": 23,
     "metadata": {},
     "output_type": "execute_result"
    },
    {
     "data": {
      "image/png": "[encoded data removed]",
      "text/plain": [
       "<Figure size 1296x864 with 1 Axes>"
      ]
     },
     "metadata": {
      "needs_background": "light"
     },
     "output_type": "display_data"
    }
   ],
   "source": [
    "# Percent missing per column in df_subset\n",
    "null_vals = df_subset.isnull().sum()/len(df_subset)*100\n",
    "null_vals = pd.DataFrame(null_vals)\n",
    "null_vals.reset_index(inplace = True)\n",
    "null_vals.columns = ['Feature','Percent Missing']\n",
    "plt.figure(figsize=(18,12))\n",
    "plt.xticks(rotation=45)\n",
    "sns.barplot(x='Feature',y='Percent Missing',data=null_vals)"
   ]
  },
  {
   "cell_type": "code",
   "execution_count": 24,
   "metadata": {},
   "outputs": [
    {
     "name": "stdout",
     "output_type": "stream",
     "text": [
      "Max consecutive nulls per column:  [3, 3, 14, 10, 4, 3, 7, 7, 7, 12, 12, 11, 4, 5]\n",
      "Overall max consecutive nulls:  14\n"
     ]
    }
   ],
   "source": [
    "# Count consecutive Null values and get max\n",
    "locations = ['Central/Western', 'Eastern', 'Kwun Tong', 'Sham Shui Po', 'Kwai Chung', 'Tsuen Wan', 'Yuen Long', 'Tuen Mun', 'Tung Chung', 'Tai Po', 'Sha Tin', 'Causeway Bay', 'Central', 'Mong Kok']\n",
    "null_counts = []\n",
    "\n",
    "for i in locations:\n",
    "    null = df_subset[i].isnull().astype(int).groupby(df_subset[i].notnull().astype(int).cumsum()).cumsum()\n",
    "    null_counts.append(null.max())\n",
    "\n",
    "print('Max consecutive nulls per column: ', null_counts)\n",
    "print('Overall max consecutive nulls: ', max(null_counts))"
   ]
  },
  {
   "cell_type": "markdown",
   "metadata": {},
   "source": [
    "## 6. Fill Missing Values with Closest Station Values"
   ]
  },
  {
   "cell_type": "code",
   "execution_count": 25,
   "metadata": {},
   "outputs": [],
   "source": [
    "# Fill each district using value of district closest\n",
    "# locations declared above includes each district / column\n",
    "\n",
    "loc_dict = {'Central/Western': ['Central','Causeway Bay'],\n",
    "            'Eastern': ['Kwun Tong', 'Causeway Bay'],\n",
    "            'Sham Shui Po': ['Mong Kok','Kwai Chung'],\n",
    "            'Kwai Chung': ['Tsuen Wan','Sham Shui Po'],\n",
    "            'Tsuen Wan': ['Kwai Chung','Sham Shui Po'],\n",
    "            'Yuen Long': ['Tuen Mun','Tsuen Wan'],\n",
    "            'Tuen Mun': ['Yuen Long','Tung Chung'],\n",
    "            'Tung Chung': ['Tuen Mun','Yuen Long'],\n",
    "            'Tai Po': ['Sha Tin','Tsuen Wan'],\n",
    "            'Sha Tin': ['Sham Shui Po','Kwai Chung'],\n",
    "            'Causeway Bay': ['Central','Eastern'],\n",
    "            'Central': ['Causeway Bay', 'Central/Western'],\n",
    "            'Mong Kok': ['Sham Shui Po','Central'],\n",
    "            'Kwun Tong': ['Eastern']\n",
    "           }\n",
    "\n",
    "\n",
    "for x in loc_dict:\n",
    "    df_subset[x].fillna(df_subset[loc_dict[x][0]] if df_subset[loc_dict[x][0]].notnull else df_subset[loc_dict[x][1]] if loc_dict[x][1].notnull else np.nan, inplace=True)\n"
   ]
  },
  {
   "cell_type": "code",
   "execution_count": 26,
   "metadata": {},
   "outputs": [
    {
     "data": {
      "text/plain": [
       "Date                0\n",
       "Hour                0\n",
       "Central/Western    16\n",
       "Eastern            18\n",
       "Kwun Tong          18\n",
       "Sham Shui Po       16\n",
       "Kwai Chung         19\n",
       "Tsuen Wan          19\n",
       "Yuen Long          31\n",
       "Tuen Mun           31\n",
       "Tung Chung         31\n",
       "Tai Po             31\n",
       "Sha Tin            16\n",
       "Causeway Bay       21\n",
       "Central            21\n",
       "Mong Kok           16\n",
       "dtype: int64"
      ]
     },
     "execution_count": 26,
     "metadata": {},
     "output_type": "execute_result"
    }
   ],
   "source": [
    "df_subset.isnull().sum()"
   ]
  },
  {
   "cell_type": "markdown",
   "metadata": {},
   "source": [
    "## 7. Create DataFrame with Daily Max Values"
   ]
  },
  {
   "cell_type": "code",
   "execution_count": 27,
   "metadata": {},
   "outputs": [
    {
     "data": {
      "text/plain": [
       "(2373, 16)"
      ]
     },
     "execution_count": 27,
     "metadata": {},
     "output_type": "execute_result"
    }
   ],
   "source": [
    "df_poll_max = df_subset[df_subset['Hour']=='Daily Max']\n",
    "df_poll_max.reset_index(inplace=True, drop=True)\n",
    "df_poll_max.shape"
   ]
  },
  {
   "cell_type": "markdown",
   "metadata": {},
   "source": [
    "## 8. Drop Max Values in Hourly DataFrame"
   ]
  },
  {
   "cell_type": "code",
   "execution_count": 28,
   "metadata": {},
   "outputs": [
    {
     "data": {
      "text/plain": [
       "(56952, 16)"
      ]
     },
     "execution_count": 28,
     "metadata": {},
     "output_type": "execute_result"
    }
   ],
   "source": [
    "df_poll_hourly = df_subset[df_subset['Hour']!='Daily Max']\n",
    "df_poll_hourly.reset_index(inplace=True, drop=True)\n",
    "df_poll_hourly.shape"
   ]
  },
  {
   "cell_type": "markdown",
   "metadata": {},
   "source": [
    "### Convert Hour to Integer"
   ]
  },
  {
   "cell_type": "code",
   "execution_count": 31,
   "metadata": {},
   "outputs": [],
   "source": [
    "df_poll_hourly.Hour = pd.to_numeric(df_poll_hourly.Hour)"
   ]
  },
  {
   "cell_type": "code",
   "execution_count": 32,
   "metadata": {},
   "outputs": [
    {
     "data": {
      "text/plain": [
       "Date               datetime64[ns]\n",
       "Hour                        int64\n",
       "Central/Western           float64\n",
       "Eastern                   float64\n",
       "Kwun Tong                 float64\n",
       "Sham Shui Po              float64\n",
       "Kwai Chung                float64\n",
       "Tsuen Wan                 float64\n",
       "Yuen Long                 float64\n",
       "Tuen Mun                  float64\n",
       "Tung Chung                float64\n",
       "Tai Po                    float64\n",
       "Sha Tin                   float64\n",
       "Causeway Bay              float64\n",
       "Central                   float64\n",
       "Mong Kok                  float64\n",
       "dtype: object"
      ]
     },
     "execution_count": 32,
     "metadata": {},
     "output_type": "execute_result"
    }
   ],
   "source": [
    "df_poll_hourly.dtypes"
   ]
  },
  {
   "cell_type": "markdown",
   "metadata": {},
   "source": [
    "## 9. Handle Missing Data"
   ]
  },
  {
   "cell_type": "markdown",
   "metadata": {},
   "source": [
    "### Examine Daily Max Pollution DataFrame"
   ]
  },
  {
   "cell_type": "code",
   "execution_count": 42,
   "metadata": {},
   "outputs": [
    {
     "data": {
      "text/plain": [
       "Date               0\n",
       "Hour               0\n",
       "Central/Western    0\n",
       "Eastern            0\n",
       "Kwun Tong          0\n",
       "Sham Shui Po       0\n",
       "Kwai Chung         0\n",
       "Tsuen Wan          0\n",
       "Yuen Long          0\n",
       "Tuen Mun           0\n",
       "Tung Chung         0\n",
       "Tai Po             0\n",
       "Sha Tin            0\n",
       "Causeway Bay       0\n",
       "Central            0\n",
       "Mong Kok           0\n",
       "dtype: int64"
      ]
     },
     "execution_count": 42,
     "metadata": {},
     "output_type": "execute_result"
    }
   ],
   "source": [
    "df_poll_max.isnull().sum()"
   ]
  },
  {
   "cell_type": "markdown",
   "metadata": {},
   "source": [
    "### Examine Hourly Pollution DataFrame"
   ]
  },
  {
   "cell_type": "code",
   "execution_count": 36,
   "metadata": {},
   "outputs": [
    {
     "name": "stdout",
     "output_type": "stream",
     "text": [
      "Max consecutive nulls per column:  [5, 5, 5, 5, 5, 5, 7, 7, 7, 12, 5, 5, 5, 5]\n",
      "Overall max consecutive nulls:  12\n"
     ]
    }
   ],
   "source": [
    "# Count consecutive Null values and get max\n",
    "locations = ['Central/Western', 'Eastern', 'Kwun Tong', 'Sham Shui Po', 'Kwai Chung', 'Tsuen Wan', 'Yuen Long', 'Tuen Mun', 'Tung Chung', 'Tai Po', 'Sha Tin', 'Causeway Bay', 'Central', 'Mong Kok']\n",
    "null_counts = []\n",
    "\n",
    "for i in locations:\n",
    "    null = df_poll_hourly[i].isnull().astype(int).groupby(df_poll_hourly[i].notnull().astype(int).cumsum()).cumsum()\n",
    "    null_counts.append(null.max())\n",
    "\n",
    "print('Max consecutive nulls per column: ', null_counts)\n",
    "print('Overall max consecutive nulls: ', max(null_counts))\n"
   ]
  },
  {
   "cell_type": "markdown",
   "metadata": {},
   "source": [
    "### Forward/Back Fill Hourly Pollution DataFrame"
   ]
  },
  {
   "cell_type": "code",
   "execution_count": 38,
   "metadata": {},
   "outputs": [],
   "source": [
    "df_poll_hourly_filled = df_poll_hourly.bfill(axis=1,limit=6).ffill(axis=1)"
   ]
  },
  {
   "cell_type": "code",
   "execution_count": 39,
   "metadata": {},
   "outputs": [
    {
     "data": {
      "text/plain": [
       "Date               0\n",
       "Hour               0\n",
       "Central/Western    0\n",
       "Eastern            0\n",
       "Kwun Tong          0\n",
       "Sham Shui Po       0\n",
       "Kwai Chung         0\n",
       "Tsuen Wan          0\n",
       "Yuen Long          0\n",
       "Tuen Mun           0\n",
       "Tung Chung         0\n",
       "Tai Po             0\n",
       "Sha Tin            0\n",
       "Causeway Bay       0\n",
       "Central            0\n",
       "Mong Kok           0\n",
       "dtype: int64"
      ]
     },
     "execution_count": 39,
     "metadata": {},
     "output_type": "execute_result"
    }
   ],
   "source": [
    "df_poll_hourly_filled.isnull().sum()"
   ]
  },
  {
   "cell_type": "code",
   "execution_count": 40,
   "metadata": {},
   "outputs": [
    {
     "data": {
      "text/html": [
       "<div>\n",
       "<style scoped>\n",
       "    .dataframe tbody tr th:only-of-type {\n",
       "        vertical-align: middle;\n",
       "    }\n",
       "\n",
       "    .dataframe tbody tr th {\n",
       "        vertical-align: top;\n",
       "    }\n",
       "\n",
       "    .dataframe thead th {\n",
       "        text-align: right;\n",
       "    }\n",
       "</style>\n",
       "<table border=\"1\" class=\"dataframe\">\n",
       "  <thead>\n",
       "    <tr style=\"text-align: right;\">\n",
       "      <th></th>\n",
       "      <th>Date</th>\n",
       "      <th>Hour</th>\n",
       "      <th>Central/Western</th>\n",
       "      <th>Eastern</th>\n",
       "      <th>Kwun Tong</th>\n",
       "      <th>Sham Shui Po</th>\n",
       "      <th>Kwai Chung</th>\n",
       "      <th>Tsuen Wan</th>\n",
       "      <th>Yuen Long</th>\n",
       "      <th>Tuen Mun</th>\n",
       "      <th>Tung Chung</th>\n",
       "      <th>Tai Po</th>\n",
       "      <th>Sha Tin</th>\n",
       "      <th>Causeway Bay</th>\n",
       "      <th>Central</th>\n",
       "      <th>Mong Kok</th>\n",
       "    </tr>\n",
       "  </thead>\n",
       "  <tbody>\n",
       "    <tr>\n",
       "      <th>0</th>\n",
       "      <td>2014-01-01</td>\n",
       "      <td>1</td>\n",
       "      <td>6</td>\n",
       "      <td>7</td>\n",
       "      <td>9</td>\n",
       "      <td>8</td>\n",
       "      <td>6</td>\n",
       "      <td>6</td>\n",
       "      <td>6</td>\n",
       "      <td>8</td>\n",
       "      <td>6</td>\n",
       "      <td>6</td>\n",
       "      <td>6</td>\n",
       "      <td>10</td>\n",
       "      <td>7</td>\n",
       "      <td>9</td>\n",
       "    </tr>\n",
       "    <tr>\n",
       "      <th>1</th>\n",
       "      <td>2014-01-01</td>\n",
       "      <td>2</td>\n",
       "      <td>6</td>\n",
       "      <td>7</td>\n",
       "      <td>9</td>\n",
       "      <td>7</td>\n",
       "      <td>6</td>\n",
       "      <td>5</td>\n",
       "      <td>6</td>\n",
       "      <td>8</td>\n",
       "      <td>5</td>\n",
       "      <td>5</td>\n",
       "      <td>6</td>\n",
       "      <td>10</td>\n",
       "      <td>7</td>\n",
       "      <td>9</td>\n",
       "    </tr>\n",
       "    <tr>\n",
       "      <th>2</th>\n",
       "      <td>2014-01-01</td>\n",
       "      <td>3</td>\n",
       "      <td>6</td>\n",
       "      <td>6</td>\n",
       "      <td>8</td>\n",
       "      <td>7</td>\n",
       "      <td>6</td>\n",
       "      <td>5</td>\n",
       "      <td>6</td>\n",
       "      <td>7</td>\n",
       "      <td>5</td>\n",
       "      <td>5</td>\n",
       "      <td>6</td>\n",
       "      <td>9</td>\n",
       "      <td>6</td>\n",
       "      <td>8</td>\n",
       "    </tr>\n",
       "    <tr>\n",
       "      <th>3</th>\n",
       "      <td>2014-01-01</td>\n",
       "      <td>4</td>\n",
       "      <td>6</td>\n",
       "      <td>6</td>\n",
       "      <td>8</td>\n",
       "      <td>7</td>\n",
       "      <td>6</td>\n",
       "      <td>5</td>\n",
       "      <td>6</td>\n",
       "      <td>7</td>\n",
       "      <td>4</td>\n",
       "      <td>5</td>\n",
       "      <td>6</td>\n",
       "      <td>9</td>\n",
       "      <td>5</td>\n",
       "      <td>8</td>\n",
       "    </tr>\n",
       "    <tr>\n",
       "      <th>4</th>\n",
       "      <td>2014-01-01</td>\n",
       "      <td>5</td>\n",
       "      <td>5</td>\n",
       "      <td>5</td>\n",
       "      <td>7</td>\n",
       "      <td>6</td>\n",
       "      <td>5</td>\n",
       "      <td>5</td>\n",
       "      <td>7</td>\n",
       "      <td>7</td>\n",
       "      <td>5</td>\n",
       "      <td>5</td>\n",
       "      <td>5</td>\n",
       "      <td>8</td>\n",
       "      <td>5</td>\n",
       "      <td>7</td>\n",
       "    </tr>\n",
       "  </tbody>\n",
       "</table>\n",
       "</div>"
      ],
      "text/plain": [
       "        Date Hour Central/Western Eastern Kwun Tong Sham Shui Po Kwai Chung  \\\n",
       "0 2014-01-01    1               6       7         9            8          6   \n",
       "1 2014-01-01    2               6       7         9            7          6   \n",
       "2 2014-01-01    3               6       6         8            7          6   \n",
       "3 2014-01-01    4               6       6         8            7          6   \n",
       "4 2014-01-01    5               5       5         7            6          5   \n",
       "\n",
       "  Tsuen Wan Yuen Long Tuen Mun Tung Chung Tai Po Sha Tin Causeway Bay Central  \\\n",
       "0         6         6        8          6      6       6           10       7   \n",
       "1         5         6        8          5      5       6           10       7   \n",
       "2         5         6        7          5      5       6            9       6   \n",
       "3         5         6        7          4      5       6            9       5   \n",
       "4         5         7        7          5      5       5            8       5   \n",
       "\n",
       "  Mong Kok  \n",
       "0        9  \n",
       "1        9  \n",
       "2        8  \n",
       "3        8  \n",
       "4        7  "
      ]
     },
     "execution_count": 40,
     "metadata": {},
     "output_type": "execute_result"
    }
   ],
   "source": [
    "df_poll_hourly_filled.head()"
   ]
  },
  {
   "cell_type": "code",
   "execution_count": 41,
   "metadata": {},
   "outputs": [
    {
     "data": {
      "text/html": [
       "<div>\n",
       "<style scoped>\n",
       "    .dataframe tbody tr th:only-of-type {\n",
       "        vertical-align: middle;\n",
       "    }\n",
       "\n",
       "    .dataframe tbody tr th {\n",
       "        vertical-align: top;\n",
       "    }\n",
       "\n",
       "    .dataframe thead th {\n",
       "        text-align: right;\n",
       "    }\n",
       "</style>\n",
       "<table border=\"1\" class=\"dataframe\">\n",
       "  <thead>\n",
       "    <tr style=\"text-align: right;\">\n",
       "      <th></th>\n",
       "      <th>Date</th>\n",
       "      <th>Hour</th>\n",
       "      <th>Central/Western</th>\n",
       "      <th>Eastern</th>\n",
       "      <th>Kwun Tong</th>\n",
       "      <th>Sham Shui Po</th>\n",
       "      <th>Kwai Chung</th>\n",
       "      <th>Tsuen Wan</th>\n",
       "      <th>Yuen Long</th>\n",
       "      <th>Tuen Mun</th>\n",
       "      <th>Tung Chung</th>\n",
       "      <th>Tai Po</th>\n",
       "      <th>Sha Tin</th>\n",
       "      <th>Causeway Bay</th>\n",
       "      <th>Central</th>\n",
       "      <th>Mong Kok</th>\n",
       "    </tr>\n",
       "  </thead>\n",
       "  <tbody>\n",
       "    <tr>\n",
       "      <th>56947</th>\n",
       "      <td>2020-06-30</td>\n",
       "      <td>20</td>\n",
       "      <td>2</td>\n",
       "      <td>2</td>\n",
       "      <td>3</td>\n",
       "      <td>2</td>\n",
       "      <td>3</td>\n",
       "      <td>2</td>\n",
       "      <td>2</td>\n",
       "      <td>2</td>\n",
       "      <td>2</td>\n",
       "      <td>2</td>\n",
       "      <td>2</td>\n",
       "      <td>3</td>\n",
       "      <td>3</td>\n",
       "      <td>3</td>\n",
       "    </tr>\n",
       "    <tr>\n",
       "      <th>56948</th>\n",
       "      <td>2020-06-30</td>\n",
       "      <td>21</td>\n",
       "      <td>2</td>\n",
       "      <td>2</td>\n",
       "      <td>3</td>\n",
       "      <td>2</td>\n",
       "      <td>2</td>\n",
       "      <td>2</td>\n",
       "      <td>2</td>\n",
       "      <td>2</td>\n",
       "      <td>2</td>\n",
       "      <td>2</td>\n",
       "      <td>2</td>\n",
       "      <td>3</td>\n",
       "      <td>3</td>\n",
       "      <td>3</td>\n",
       "    </tr>\n",
       "    <tr>\n",
       "      <th>56949</th>\n",
       "      <td>2020-06-30</td>\n",
       "      <td>22</td>\n",
       "      <td>2</td>\n",
       "      <td>2</td>\n",
       "      <td>3</td>\n",
       "      <td>2</td>\n",
       "      <td>2</td>\n",
       "      <td>2</td>\n",
       "      <td>2</td>\n",
       "      <td>2</td>\n",
       "      <td>2</td>\n",
       "      <td>2</td>\n",
       "      <td>2</td>\n",
       "      <td>3</td>\n",
       "      <td>3</td>\n",
       "      <td>3</td>\n",
       "    </tr>\n",
       "    <tr>\n",
       "      <th>56950</th>\n",
       "      <td>2020-06-30</td>\n",
       "      <td>23</td>\n",
       "      <td>2</td>\n",
       "      <td>2</td>\n",
       "      <td>2</td>\n",
       "      <td>2</td>\n",
       "      <td>2</td>\n",
       "      <td>2</td>\n",
       "      <td>2</td>\n",
       "      <td>2</td>\n",
       "      <td>2</td>\n",
       "      <td>2</td>\n",
       "      <td>2</td>\n",
       "      <td>3</td>\n",
       "      <td>2</td>\n",
       "      <td>3</td>\n",
       "    </tr>\n",
       "    <tr>\n",
       "      <th>56951</th>\n",
       "      <td>2020-06-30</td>\n",
       "      <td>24</td>\n",
       "      <td>2</td>\n",
       "      <td>2</td>\n",
       "      <td>2</td>\n",
       "      <td>2</td>\n",
       "      <td>2</td>\n",
       "      <td>2</td>\n",
       "      <td>2</td>\n",
       "      <td>1</td>\n",
       "      <td>2</td>\n",
       "      <td>2</td>\n",
       "      <td>2</td>\n",
       "      <td>3</td>\n",
       "      <td>2</td>\n",
       "      <td>2</td>\n",
       "    </tr>\n",
       "  </tbody>\n",
       "</table>\n",
       "</div>"
      ],
      "text/plain": [
       "            Date Hour Central/Western Eastern Kwun Tong Sham Shui Po  \\\n",
       "56947 2020-06-30   20               2       2         3            2   \n",
       "56948 2020-06-30   21               2       2         3            2   \n",
       "56949 2020-06-30   22               2       2         3            2   \n",
       "56950 2020-06-30   23               2       2         2            2   \n",
       "56951 2020-06-30   24               2       2         2            2   \n",
       "\n",
       "      Kwai Chung Tsuen Wan Yuen Long Tuen Mun Tung Chung Tai Po Sha Tin  \\\n",
       "56947          3         2         2        2          2      2       2   \n",
       "56948          2         2         2        2          2      2       2   \n",
       "56949          2         2         2        2          2      2       2   \n",
       "56950          2         2         2        2          2      2       2   \n",
       "56951          2         2         2        1          2      2       2   \n",
       "\n",
       "      Causeway Bay Central Mong Kok  \n",
       "56947            3       3        3  \n",
       "56948            3       3        3  \n",
       "56949            3       3        3  \n",
       "56950            3       2        3  \n",
       "56951            3       2        2  "
      ]
     },
     "execution_count": 41,
     "metadata": {},
     "output_type": "execute_result"
    }
   ],
   "source": [
    "df_poll_hourly_filled.tail()"
   ]
  },
  {
   "cell_type": "markdown",
   "metadata": {},
   "source": [
    "## 10. Save Max Pollution and Hourly Pollution DataFrames"
   ]
  },
  {
   "cell_type": "code",
   "execution_count": 43,
   "metadata": {},
   "outputs": [],
   "source": [
    "df_poll_max.to_csv('../data/processed/daily_max_pollution.csv')\n",
    "df_poll_hourly.to_csv('../data/processed/hourly_pollution.csv')"
   ]
  },
  {
   "cell_type": "code",
   "execution_count": null,
   "metadata": {},
   "outputs": [],
   "source": []
  }
 ],
 "metadata": {
  "kernelspec": {
   "display_name": "myenv",
   "language": "python",
   "name": "myenv"
  },
  "language_info": {
   "codemirror_mode": {
    "name": "ipython",
    "version": 3
   },
   "file_extension": ".py",
   "mimetype": "text/x-python",
   "name": "python",
   "nbconvert_exporter": "python",
   "pygments_lexer": "ipython3",
   "version": "3.8.2"
  }
 },
 "nbformat": 4,
 "nbformat_minor": 4
}
