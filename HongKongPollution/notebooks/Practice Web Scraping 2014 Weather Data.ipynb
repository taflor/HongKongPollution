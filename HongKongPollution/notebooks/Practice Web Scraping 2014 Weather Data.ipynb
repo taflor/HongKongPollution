{
 "cells": [
  {
   "cell_type": "markdown",
   "metadata": {},
   "source": [
    "# Web Scraping Weather Data\n",
    "Webscraping tutorial: https://towardsdatascience.com/web-scraping-html-tables-with-python-c9baba21059"
   ]
  },
  {
   "cell_type": "code",
   "execution_count": 1,
   "metadata": {},
   "outputs": [],
   "source": [
    "import requests\n",
    "import lxml.html as lh\n",
    "import pandas as pd"
   ]
  },
  {
   "cell_type": "markdown",
   "metadata": {},
   "source": [
    "## 1. Define Web Scraping Function"
   ]
  },
  {
   "cell_type": "code",
   "execution_count": 2,
   "metadata": {},
   "outputs": [],
   "source": [
    "url = 'https://www.hko.gov.hk/en/wxinfo/pastwx/ywx2014.htm'\n",
    "\n",
    "# create a handle, page, to handle the contents\n",
    "page = requests.get(url)\n",
    "\n",
    "# store contents of website under doc\n",
    "doc = lh.fromstring(page.content)\n",
    "\n",
    "# parse data that are stored between <tr>..</tr> of HTML\n",
    "tr_elements = doc.xpath('//tr')"
   ]
  },
  {
   "cell_type": "code",
   "execution_count": 3,
   "metadata": {},
   "outputs": [
    {
     "name": "stdout",
     "output_type": "stream",
     "text": [
      "Length of list: 49\n",
      "Index of station name: 16\n"
     ]
    }
   ],
   "source": [
    "# Check length of list\n",
    "print('Length of list:', len(tr_elements))\n",
    "\n",
    "# Notice the list is 49, so it has captured all three tables\n",
    "# We only need elements from table 1\n",
    "# Determine which row has two items in the list -- this is the row that lists the station\n",
    "res = [] \n",
    "for idx in range(0, len(tr_elements)) : \n",
    "    if len(tr_elements[idx]) == 2: \n",
    "        res.append(idx)\n",
    "station_idx = res[0]\n",
    "print('Index of station name:', station_idx)"
   ]
  },
  {
   "cell_type": "code",
   "execution_count": 4,
   "metadata": {},
   "outputs": [
    {
     "name": "stdout",
     "output_type": "stream",
     "text": [
      "[7, 3, 9, 9, 9, 9, 9, 9, 9, 9, 9, 9, 9, 9, 9, 9, 2]\n"
     ]
    }
   ],
   "source": [
    "# Get tr elements of only first table\n",
    "print([len(T) for T in tr_elements[:station_idx+1]])"
   ]
  },
  {
   "cell_type": "markdown",
   "metadata": {},
   "source": [
    "**Get Header for 1st Table**"
   ]
  },
  {
   "cell_type": "code",
   "execution_count": 5,
   "metadata": {},
   "outputs": [
    {
     "name": "stdout",
     "output_type": "stream",
     "text": [
      "0 ('Month', [])\n",
      "1 ('MeanPressure(hPa)', [])\n",
      "2 ('Mean DailyMax.(deg. C) Air Temperature', [])\n",
      "3 ('Mean(deg. C) Air Temperature', [])\n",
      "4 ('Mean DailyMin.(deg. C) Air Temperature', [])\n",
      "5 ('MeanDew Point(deg. C)', [])\n",
      "6 ('MeanRelativeHumidity(%)', [])\n",
      "7 ('MeanAmountof Cloud(%)', [])\n",
      "8 ('TotalRainfall(mm)', [])\n"
     ]
    }
   ],
   "source": [
    "# create empty list\n",
    "col=[]\n",
    "\n",
    "# for each row, store each first element (header) and an empty list\n",
    "i=0\n",
    "for t in tr_elements[0]:\n",
    "    i+=1\n",
    "    name=t.text_content()\n",
    "    col.append((name,[]))\n",
    "    \n",
    "j = 0\n",
    "delete = col[2]\n",
    "\n",
    "for t in tr_elements[1]:\n",
    "    name=t.text_content()\n",
    "    col.insert(j+2,(name + ' Air Temperature',[]))\n",
    "    j+=1\n",
    "\n",
    "# Remove column with Temperature Title\n",
    "col.remove(delete)\n",
    "\n",
    "for column in col:\n",
    "    print(col.index(column),column)"
   ]
  },
  {
   "cell_type": "code",
   "execution_count": 6,
   "metadata": {},
   "outputs": [],
   "source": [
    "# Collect data from each row\n",
    "# Since header data is stored in 0-1, we start at index 2\n",
    "for j in range(2,len(tr_elements)):\n",
    "    # T is the j'th row\n",
    "    T = tr_elements[j]\n",
    "    \n",
    "    # If row is not of size 9, the //tr data is not from table 1\n",
    "    if len(T)!=9:\n",
    "        break\n",
    "        \n",
    "    # i is the index of our column\n",
    "    i=0\n",
    "    \n",
    "    # Iterate througgh each element of the row\n",
    "    for t in T.iterchildren():\n",
    "        data=t.text_content()\n",
    "        # Check if row is empty\n",
    "        if i>0:\n",
    "            # Convert any numerical value to integer\n",
    "            try:\n",
    "                data=int(data)\n",
    "            except:\n",
    "                pass\n",
    "        # Append the data to the empty list of the i'th column\n",
    "        col[i][1].append(data)\n",
    "        # Increment i for the next column\n",
    "        i+=1"
   ]
  },
  {
   "cell_type": "code",
   "execution_count": 7,
   "metadata": {},
   "outputs": [
    {
     "data": {
      "text/plain": [
       "[14, 14, 14, 14, 14, 14, 14, 14, 14]"
      ]
     },
     "execution_count": 7,
     "metadata": {},
     "output_type": "execute_result"
    }
   ],
   "source": [
    "# Check length of each column\n",
    "# They should all be the same\n",
    "[len(C) for (title,C) in col]"
   ]
  },
  {
   "cell_type": "code",
   "execution_count": 8,
   "metadata": {},
   "outputs": [
    {
     "data": {
      "text/html": [
       "<div>\n",
       "<style scoped>\n",
       "    .dataframe tbody tr th:only-of-type {\n",
       "        vertical-align: middle;\n",
       "    }\n",
       "\n",
       "    .dataframe tbody tr th {\n",
       "        vertical-align: top;\n",
       "    }\n",
       "\n",
       "    .dataframe thead th {\n",
       "        text-align: right;\n",
       "    }\n",
       "</style>\n",
       "<table border=\"1\" class=\"dataframe\">\n",
       "  <thead>\n",
       "    <tr style=\"text-align: right;\">\n",
       "      <th></th>\n",
       "      <th>Month</th>\n",
       "      <th>MeanPressure(hPa)</th>\n",
       "      <th>Mean DailyMax.(deg. C) Air Temperature</th>\n",
       "      <th>Mean(deg. C) Air Temperature</th>\n",
       "      <th>Mean DailyMin.(deg. C) Air Temperature</th>\n",
       "      <th>MeanDew Point(deg. C)</th>\n",
       "      <th>MeanRelativeHumidity(%)</th>\n",
       "      <th>MeanAmountof Cloud(%)</th>\n",
       "      <th>TotalRainfall(mm)</th>\n",
       "      <th>Year</th>\n",
       "    </tr>\n",
       "  </thead>\n",
       "  <tbody>\n",
       "    <tr>\n",
       "      <th>11</th>\n",
       "      <td>Dec</td>\n",
       "      <td>1021.7</td>\n",
       "      <td>18.5</td>\n",
       "      <td>16.3</td>\n",
       "      <td>14.2</td>\n",
       "      <td>9.9</td>\n",
       "      <td>67</td>\n",
       "      <td>67</td>\n",
       "      <td>44.7</td>\n",
       "      <td>2014</td>\n",
       "    </tr>\n",
       "    <tr>\n",
       "      <th>12</th>\n",
       "      <td>Mean/Total</td>\n",
       "      <td>1013.1</td>\n",
       "      <td>26.0</td>\n",
       "      <td>23.5</td>\n",
       "      <td>21.5</td>\n",
       "      <td>19.3</td>\n",
       "      <td>78</td>\n",
       "      <td>66</td>\n",
       "      <td>2638.3</td>\n",
       "      <td>2014</td>\n",
       "    </tr>\n",
       "    <tr>\n",
       "      <th>13</th>\n",
       "      <td>Normal*</td>\n",
       "      <td>1012.9</td>\n",
       "      <td>25.6</td>\n",
       "      <td>23.3</td>\n",
       "      <td>21.4</td>\n",
       "      <td>19.0</td>\n",
       "      <td>78</td>\n",
       "      <td>68</td>\n",
       "      <td>2398.5</td>\n",
       "      <td>2014</td>\n",
       "    </tr>\n",
       "  </tbody>\n",
       "</table>\n",
       "</div>"
      ],
      "text/plain": [
       "         Month MeanPressure(hPa) Mean DailyMax.(deg. C) Air Temperature  \\\n",
       "11         Dec            1021.7                                   18.5   \n",
       "12  Mean/Total            1013.1                                   26.0   \n",
       "13     Normal*            1012.9                                   25.6   \n",
       "\n",
       "   Mean(deg. C) Air Temperature Mean DailyMin.(deg. C) Air Temperature  \\\n",
       "11                         16.3                                   14.2   \n",
       "12                         23.5                                   21.5   \n",
       "13                         23.3                                   21.4   \n",
       "\n",
       "   MeanDew Point(deg. C)  MeanRelativeHumidity(%)  MeanAmountof Cloud(%)  \\\n",
       "11                   9.9                       67                     67   \n",
       "12                  19.3                       78                     66   \n",
       "13                  19.0                       78                     68   \n",
       "\n",
       "   TotalRainfall(mm)  Year  \n",
       "11              44.7  2014  \n",
       "12            2638.3  2014  \n",
       "13            2398.5  2014  "
      ]
     },
     "execution_count": 8,
     "metadata": {},
     "output_type": "execute_result"
    }
   ],
   "source": [
    "# Create DataFrame of weather data\n",
    "Dict = {title:column for (title,column) in col}\n",
    "df=pd.DataFrame(Dict)\n",
    "df['Year'] = 2014\n",
    "df.tail(3)"
   ]
  },
  {
   "cell_type": "code",
   "execution_count": 9,
   "metadata": {},
   "outputs": [
    {
     "data": {
      "text/html": [
       "<div>\n",
       "<style scoped>\n",
       "    .dataframe tbody tr th:only-of-type {\n",
       "        vertical-align: middle;\n",
       "    }\n",
       "\n",
       "    .dataframe tbody tr th {\n",
       "        vertical-align: top;\n",
       "    }\n",
       "\n",
       "    .dataframe thead th {\n",
       "        text-align: right;\n",
       "    }\n",
       "</style>\n",
       "<table border=\"1\" class=\"dataframe\">\n",
       "  <thead>\n",
       "    <tr style=\"text-align: right;\">\n",
       "      <th></th>\n",
       "      <th>Month</th>\n",
       "      <th>MeanPressure(hPa)</th>\n",
       "      <th>Mean DailyMax.(deg. C) Air Temperature</th>\n",
       "      <th>Mean(deg. C) Air Temperature</th>\n",
       "      <th>Mean DailyMin.(deg. C) Air Temperature</th>\n",
       "      <th>MeanDew Point(deg. C)</th>\n",
       "      <th>MeanRelativeHumidity(%)</th>\n",
       "      <th>MeanAmountof Cloud(%)</th>\n",
       "      <th>TotalRainfall(mm)</th>\n",
       "      <th>Year</th>\n",
       "    </tr>\n",
       "  </thead>\n",
       "  <tbody>\n",
       "    <tr>\n",
       "      <th>9</th>\n",
       "      <td>Oct</td>\n",
       "      <td>1014.6</td>\n",
       "      <td>28.9</td>\n",
       "      <td>26.2</td>\n",
       "      <td>24.3</td>\n",
       "      <td>20.4</td>\n",
       "      <td>71</td>\n",
       "      <td>54</td>\n",
       "      <td>109.8</td>\n",
       "      <td>2014</td>\n",
       "    </tr>\n",
       "    <tr>\n",
       "      <th>10</th>\n",
       "      <td>Nov</td>\n",
       "      <td>1017.0</td>\n",
       "      <td>24.6</td>\n",
       "      <td>22.6</td>\n",
       "      <td>21.2</td>\n",
       "      <td>18.5</td>\n",
       "      <td>78</td>\n",
       "      <td>63</td>\n",
       "      <td>31.1</td>\n",
       "      <td>2014</td>\n",
       "    </tr>\n",
       "    <tr>\n",
       "      <th>11</th>\n",
       "      <td>Dec</td>\n",
       "      <td>1021.7</td>\n",
       "      <td>18.5</td>\n",
       "      <td>16.3</td>\n",
       "      <td>14.2</td>\n",
       "      <td>9.9</td>\n",
       "      <td>67</td>\n",
       "      <td>67</td>\n",
       "      <td>44.7</td>\n",
       "      <td>2014</td>\n",
       "    </tr>\n",
       "  </tbody>\n",
       "</table>\n",
       "</div>"
      ],
      "text/plain": [
       "   Month MeanPressure(hPa) Mean DailyMax.(deg. C) Air Temperature  \\\n",
       "9    Oct            1014.6                                   28.9   \n",
       "10   Nov            1017.0                                   24.6   \n",
       "11   Dec            1021.7                                   18.5   \n",
       "\n",
       "   Mean(deg. C) Air Temperature Mean DailyMin.(deg. C) Air Temperature  \\\n",
       "9                          26.2                                   24.3   \n",
       "10                         22.6                                   21.2   \n",
       "11                         16.3                                   14.2   \n",
       "\n",
       "   MeanDew Point(deg. C)  MeanRelativeHumidity(%)  MeanAmountof Cloud(%)  \\\n",
       "9                   20.4                       71                     54   \n",
       "10                  18.5                       78                     63   \n",
       "11                   9.9                       67                     67   \n",
       "\n",
       "   TotalRainfall(mm)  Year  \n",
       "9              109.8  2014  \n",
       "10              31.1  2014  \n",
       "11              44.7  2014  "
      ]
     },
     "execution_count": 9,
     "metadata": {},
     "output_type": "execute_result"
    }
   ],
   "source": [
    "# Remove last two rows\n",
    "df = df.iloc[:-2,:]\n",
    "df.tail(3)"
   ]
  },
  {
   "cell_type": "code",
   "execution_count": 10,
   "metadata": {},
   "outputs": [
    {
     "data": {
      "text/html": [
       "<div>\n",
       "<style scoped>\n",
       "    .dataframe tbody tr th:only-of-type {\n",
       "        vertical-align: middle;\n",
       "    }\n",
       "\n",
       "    .dataframe tbody tr th {\n",
       "        vertical-align: top;\n",
       "    }\n",
       "\n",
       "    .dataframe thead th {\n",
       "        text-align: right;\n",
       "    }\n",
       "</style>\n",
       "<table border=\"1\" class=\"dataframe\">\n",
       "  <thead>\n",
       "    <tr style=\"text-align: right;\">\n",
       "      <th></th>\n",
       "      <th>Month</th>\n",
       "      <th>MeanPressure(hPa)</th>\n",
       "      <th>Mean DailyMax.(deg. C) Air Temperature</th>\n",
       "      <th>Mean(deg. C) Air Temperature</th>\n",
       "      <th>Mean DailyMin.(deg. C) Air Temperature</th>\n",
       "      <th>MeanDew Point(deg. C)</th>\n",
       "      <th>MeanRelativeHumidity(%)</th>\n",
       "      <th>MeanAmountof Cloud(%)</th>\n",
       "      <th>TotalRainfall(mm)</th>\n",
       "      <th>Year</th>\n",
       "      <th>Year_Month</th>\n",
       "    </tr>\n",
       "  </thead>\n",
       "  <tbody>\n",
       "    <tr>\n",
       "      <th>0</th>\n",
       "      <td>Jan</td>\n",
       "      <td>1021.3</td>\n",
       "      <td>19.2</td>\n",
       "      <td>16.3</td>\n",
       "      <td>14.1</td>\n",
       "      <td>9.9</td>\n",
       "      <td>67</td>\n",
       "      <td>32</td>\n",
       "      <td>Trace</td>\n",
       "      <td>2014</td>\n",
       "      <td>2014-1</td>\n",
       "    </tr>\n",
       "    <tr>\n",
       "      <th>1</th>\n",
       "      <td>Feb</td>\n",
       "      <td>1017.7</td>\n",
       "      <td>17.9</td>\n",
       "      <td>15.5</td>\n",
       "      <td>13.5</td>\n",
       "      <td>12.3</td>\n",
       "      <td>82</td>\n",
       "      <td>73</td>\n",
       "      <td>39.5</td>\n",
       "      <td>2014</td>\n",
       "      <td>2014-2</td>\n",
       "    </tr>\n",
       "    <tr>\n",
       "      <th>2</th>\n",
       "      <td>Mar</td>\n",
       "      <td>1017.1</td>\n",
       "      <td>20.9</td>\n",
       "      <td>18.7</td>\n",
       "      <td>17.0</td>\n",
       "      <td>15.7</td>\n",
       "      <td>83</td>\n",
       "      <td>77</td>\n",
       "      <td>207.6</td>\n",
       "      <td>2014</td>\n",
       "      <td>2014-3</td>\n",
       "    </tr>\n",
       "  </tbody>\n",
       "</table>\n",
       "</div>"
      ],
      "text/plain": [
       "  Month MeanPressure(hPa) Mean DailyMax.(deg. C) Air Temperature  \\\n",
       "0   Jan            1021.3                                   19.2   \n",
       "1   Feb            1017.7                                   17.9   \n",
       "2   Mar            1017.1                                   20.9   \n",
       "\n",
       "  Mean(deg. C) Air Temperature Mean DailyMin.(deg. C) Air Temperature  \\\n",
       "0                         16.3                                   14.1   \n",
       "1                         15.5                                   13.5   \n",
       "2                         18.7                                   17.0   \n",
       "\n",
       "  MeanDew Point(deg. C)  MeanRelativeHumidity(%)  MeanAmountof Cloud(%)  \\\n",
       "0                   9.9                       67                     32   \n",
       "1                  12.3                       82                     73   \n",
       "2                  15.7                       83                     77   \n",
       "\n",
       "  TotalRainfall(mm)  Year Year_Month  \n",
       "0             Trace  2014     2014-1  \n",
       "1              39.5  2014     2014-2  \n",
       "2             207.6  2014     2014-3  "
      ]
     },
     "execution_count": 10,
     "metadata": {},
     "output_type": "execute_result"
    }
   ],
   "source": [
    "# Create month dictionary to convert to numbers\n",
    "d={'Jan':1,'Feb':2,'Mar':3,'Apr':4,'May':5,'Jun':6,'Jul':7,'Aug':8,'Sep':9,'Oct':10,'Nov':11,'Dec':12}\n",
    "\n",
    "# Create Year_Month column for analysis\n",
    "df['Year_Month'] = df['Year'].astype(str).str.cat(df['Month'].map(d).astype(str),sep=\"-\")\n",
    "df.head(3)"
   ]
  },
  {
   "cell_type": "code",
   "execution_count": 11,
   "metadata": {},
   "outputs": [
    {
     "data": {
      "text/html": [
       "<div>\n",
       "<style scoped>\n",
       "    .dataframe tbody tr th:only-of-type {\n",
       "        vertical-align: middle;\n",
       "    }\n",
       "\n",
       "    .dataframe tbody tr th {\n",
       "        vertical-align: top;\n",
       "    }\n",
       "\n",
       "    .dataframe thead th {\n",
       "        text-align: right;\n",
       "    }\n",
       "</style>\n",
       "<table border=\"1\" class=\"dataframe\">\n",
       "  <thead>\n",
       "    <tr style=\"text-align: right;\">\n",
       "      <th></th>\n",
       "      <th>Year_Month</th>\n",
       "      <th>MeanPressure(hPa)</th>\n",
       "      <th>Mean DailyMax.(deg. C) Air Temperature</th>\n",
       "      <th>Mean(deg. C) Air Temperature</th>\n",
       "      <th>Mean DailyMin.(deg. C) Air Temperature</th>\n",
       "      <th>MeanDew Point(deg. C)</th>\n",
       "      <th>MeanRelativeHumidity(%)</th>\n",
       "      <th>MeanAmountof Cloud(%)</th>\n",
       "      <th>TotalRainfall(mm)</th>\n",
       "    </tr>\n",
       "  </thead>\n",
       "  <tbody>\n",
       "    <tr>\n",
       "      <th>0</th>\n",
       "      <td>2014-1</td>\n",
       "      <td>1021.3</td>\n",
       "      <td>19.2</td>\n",
       "      <td>16.3</td>\n",
       "      <td>14.1</td>\n",
       "      <td>9.9</td>\n",
       "      <td>67</td>\n",
       "      <td>32</td>\n",
       "      <td>Trace</td>\n",
       "    </tr>\n",
       "    <tr>\n",
       "      <th>1</th>\n",
       "      <td>2014-2</td>\n",
       "      <td>1017.7</td>\n",
       "      <td>17.9</td>\n",
       "      <td>15.5</td>\n",
       "      <td>13.5</td>\n",
       "      <td>12.3</td>\n",
       "      <td>82</td>\n",
       "      <td>73</td>\n",
       "      <td>39.5</td>\n",
       "    </tr>\n",
       "    <tr>\n",
       "      <th>2</th>\n",
       "      <td>2014-3</td>\n",
       "      <td>1017.1</td>\n",
       "      <td>20.9</td>\n",
       "      <td>18.7</td>\n",
       "      <td>17.0</td>\n",
       "      <td>15.7</td>\n",
       "      <td>83</td>\n",
       "      <td>77</td>\n",
       "      <td>207.6</td>\n",
       "    </tr>\n",
       "  </tbody>\n",
       "</table>\n",
       "</div>"
      ],
      "text/plain": [
       "  Year_Month MeanPressure(hPa) Mean DailyMax.(deg. C) Air Temperature  \\\n",
       "0     2014-1            1021.3                                   19.2   \n",
       "1     2014-2            1017.7                                   17.9   \n",
       "2     2014-3            1017.1                                   20.9   \n",
       "\n",
       "  Mean(deg. C) Air Temperature Mean DailyMin.(deg. C) Air Temperature  \\\n",
       "0                         16.3                                   14.1   \n",
       "1                         15.5                                   13.5   \n",
       "2                         18.7                                   17.0   \n",
       "\n",
       "  MeanDew Point(deg. C)  MeanRelativeHumidity(%)  MeanAmountof Cloud(%)  \\\n",
       "0                   9.9                       67                     32   \n",
       "1                  12.3                       82                     73   \n",
       "2                  15.7                       83                     77   \n",
       "\n",
       "  TotalRainfall(mm)  \n",
       "0             Trace  \n",
       "1              39.5  \n",
       "2             207.6  "
      ]
     },
     "execution_count": 11,
     "metadata": {},
     "output_type": "execute_result"
    }
   ],
   "source": [
    "# Reorder df content\n",
    "df = df[['Year_Month','MeanPressure(hPa)', 'Mean DailyMax.(deg. C) Air Temperature',\n",
    "       'Mean(deg. C) Air Temperature',\n",
    "       'Mean DailyMin.(deg. C) Air Temperature', 'MeanDew Point(deg. C)',\n",
    "       'MeanRelativeHumidity(%)', 'MeanAmountof Cloud(%)', 'TotalRainfall(mm)']]\n",
    "df.head(3)"
   ]
  },
  {
   "cell_type": "code",
   "execution_count": 27,
   "metadata": {},
   "outputs": [
    {
     "name": "stdout",
     "output_type": "stream",
     "text": [
      "/Users/tiffanyflor/Dropbox/MyProjects/HongKongPollution/HongKongPollution\n"
     ]
    }
   ],
   "source": [
    "import os\n",
    "path = os.getcwd()\n",
    "parent = os.path.dirname(path) \n",
    "print(parent)\n",
    "\n",
    "df.to_csv(parent+'/data/raw/hk_weather_2014.csv')"
   ]
  },
  {
   "cell_type": "code",
   "execution_count": null,
   "metadata": {},
   "outputs": [],
   "source": []
  },
  {
   "cell_type": "code",
   "execution_count": null,
   "metadata": {},
   "outputs": [],
   "source": []
  }
 ],
 "metadata": {
  "kernelspec": {
   "display_name": "hkpollution3",
   "language": "python",
   "name": "hkpollution3"
  },
  "language_info": {
   "codemirror_mode": {
    "name": "ipython",
    "version": 3
   },
   "file_extension": ".py",
   "mimetype": "text/x-python",
   "name": "python",
   "nbconvert_exporter": "python",
   "pygments_lexer": "ipython3",
   "version": "3.8.5"
  }
 },
 "nbformat": 4,
 "nbformat_minor": 4
}
